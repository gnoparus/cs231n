{
 "cells": [
  {
   "cell_type": "markdown",
   "metadata": {},
   "source": [
    "# Dropout\n",
    "Dropout [1] is a technique for regularizing neural networks by randomly setting some features to zero during the forward pass. In this exercise you will implement a dropout layer and modify your fully-connected network to optionally use dropout.\n",
    "\n",
    "[1] [Geoffrey E. Hinton et al, \"Improving neural networks by preventing co-adaptation of feature detectors\", arXiv 2012](https://arxiv.org/abs/1207.0580)"
   ]
  },
  {
   "cell_type": "code",
   "execution_count": 1,
   "metadata": {
    "ExecuteTime": {
     "end_time": "2018-07-20T05:25:44.273969Z",
     "start_time": "2018-07-20T05:25:43.868681Z"
    }
   },
   "outputs": [],
   "source": [
    "# As usual, a bit of setup\n",
    "from __future__ import print_function\n",
    "import time\n",
    "import numpy as np\n",
    "import matplotlib.pyplot as plt\n",
    "from cs231n.classifiers.fc_net import *\n",
    "from cs231n.data_utils import get_CIFAR10_data\n",
    "from cs231n.gradient_check import eval_numerical_gradient, eval_numerical_gradient_array\n",
    "from cs231n.solver import Solver\n",
    "\n",
    "%matplotlib inline\n",
    "plt.rcParams['figure.figsize'] = (10.0, 8.0) # set default size of plots\n",
    "plt.rcParams['image.interpolation'] = 'nearest'\n",
    "plt.rcParams['image.cmap'] = 'gray'\n",
    "\n",
    "# for auto-reloading external modules\n",
    "# see http://stackoverflow.com/questions/1907993/autoreload-of-modules-in-ipython\n",
    "%load_ext autoreload\n",
    "%autoreload 2\n",
    "\n",
    "def rel_error(x, y):\n",
    "  \"\"\" returns relative error \"\"\"\n",
    "  return np.max(np.abs(x - y) / (np.maximum(1e-8, np.abs(x) + np.abs(y))))"
   ]
  },
  {
   "cell_type": "code",
   "execution_count": 2,
   "metadata": {
    "ExecuteTime": {
     "end_time": "2018-07-20T05:25:50.089218Z",
     "start_time": "2018-07-20T05:25:44.275888Z"
    }
   },
   "outputs": [
    {
     "name": "stdout",
     "output_type": "stream",
     "text": [
      "X_train:  (49000, 3, 32, 32)\n",
      "y_train:  (49000,)\n",
      "X_val:  (1000, 3, 32, 32)\n",
      "y_val:  (1000,)\n",
      "X_test:  (1000, 3, 32, 32)\n",
      "y_test:  (1000,)\n"
     ]
    }
   ],
   "source": [
    "# Load the (preprocessed) CIFAR10 data.\n",
    "\n",
    "data = get_CIFAR10_data()\n",
    "for k, v in data.items():\n",
    "  print('%s: ' % k, v.shape)"
   ]
  },
  {
   "cell_type": "markdown",
   "metadata": {},
   "source": [
    "# Dropout forward pass\n",
    "In the file `cs231n/layers.py`, implement the forward pass for dropout. Since dropout behaves differently during training and testing, make sure to implement the operation for both modes.\n",
    "\n",
    "Once you have done so, run the cell below to test your implementation."
   ]
  },
  {
   "cell_type": "code",
   "execution_count": 3,
   "metadata": {
    "ExecuteTime": {
     "end_time": "2018-07-20T05:25:50.160507Z",
     "start_time": "2018-07-20T05:25:50.092128Z"
    }
   },
   "outputs": [
    {
     "name": "stdout",
     "output_type": "stream",
     "text": [
      "Running tests with p =  0.25\n",
      "Mean of input:  10.000207878477502\n",
      "Mean of train-time output:  10.006234670544599\n",
      "Mean of test-time output:  10.000207878477502\n",
      "Fraction of train-time output set to zero:  0.749832\n",
      "Fraction of test-time output set to zero:  0.0\n",
      "\n",
      "Running tests with p =  0.4\n",
      "Mean of input:  10.000207878477502\n",
      "Mean of train-time output:  10.035153558044966\n",
      "Mean of test-time output:  10.000207878477502\n",
      "Fraction of train-time output set to zero:  0.598632\n",
      "Fraction of test-time output set to zero:  0.0\n",
      "\n",
      "Running tests with p =  0.7\n",
      "Mean of input:  10.000207878477502\n",
      "Mean of train-time output:  10.007776657908957\n",
      "Mean of test-time output:  10.000207878477502\n",
      "Fraction of train-time output set to zero:  0.299504\n",
      "Fraction of test-time output set to zero:  0.0\n",
      "\n"
     ]
    }
   ],
   "source": [
    "np.random.seed(231)\n",
    "x = np.random.randn(500, 500) + 10\n",
    "\n",
    "for p in [0.25, 0.4, 0.7]:\n",
    "  out, _ = dropout_forward(x, {'mode': 'train', 'p': p})\n",
    "  out_test, _ = dropout_forward(x, {'mode': 'test', 'p': p})\n",
    "\n",
    "  print('Running tests with p = ', p)\n",
    "  print('Mean of input: ', x.mean())\n",
    "  print('Mean of train-time output: ', out.mean())\n",
    "  print('Mean of test-time output: ', out_test.mean())\n",
    "  print('Fraction of train-time output set to zero: ', (out == 0).mean())\n",
    "  print('Fraction of test-time output set to zero: ', (out_test == 0).mean())\n",
    "  print()"
   ]
  },
  {
   "cell_type": "markdown",
   "metadata": {},
   "source": [
    "# Dropout backward pass\n",
    "In the file `cs231n/layers.py`, implement the backward pass for dropout. After doing so, run the following cell to numerically gradient-check your implementation."
   ]
  },
  {
   "cell_type": "code",
   "execution_count": 4,
   "metadata": {
    "ExecuteTime": {
     "end_time": "2018-07-20T05:25:50.190054Z",
     "start_time": "2018-07-20T05:25:50.162849Z"
    }
   },
   "outputs": [
    {
     "name": "stdout",
     "output_type": "stream",
     "text": [
      "dx relative error:  1.8928934444458168e-11\n"
     ]
    }
   ],
   "source": [
    "np.random.seed(231)\n",
    "x = np.random.randn(10, 10) + 10\n",
    "dout = np.random.randn(*x.shape)\n",
    "\n",
    "dropout_param = {'mode': 'train', 'p': 0.2, 'seed': 123}\n",
    "out, cache = dropout_forward(x, dropout_param)\n",
    "dx = dropout_backward(dout, cache)\n",
    "dx_num = eval_numerical_gradient_array(lambda xx: dropout_forward(xx, dropout_param)[0], x, dout)\n",
    "\n",
    "# Error should be around e-10 or less\n",
    "print('dx relative error: ', rel_error(dx, dx_num))"
   ]
  },
  {
   "cell_type": "markdown",
   "metadata": {},
   "source": [
    "## Inline Question 1:\n",
    "What happens if we do not divide the values being passed through inverse dropout by `p` in the dropout layer? Why does that happen?"
   ]
  },
  {
   "cell_type": "markdown",
   "metadata": {},
   "source": [
    "## Answer:\n"
   ]
  },
  {
   "cell_type": "markdown",
   "metadata": {},
   "source": [
    "# Fully-connected nets with Dropout\n",
    "In the file `cs231n/classifiers/fc_net.py`, modify your implementation to use dropout. Specifically, if the constructor of the net receives a value that is not 1 for the `dropout` parameter, then the net should add dropout immediately after every ReLU nonlinearity. After doing so, run the following to numerically gradient-check your implementation."
   ]
  },
  {
   "cell_type": "code",
   "execution_count": 5,
   "metadata": {
    "ExecuteTime": {
     "end_time": "2018-07-20T05:25:51.038037Z",
     "start_time": "2018-07-20T05:25:50.192277Z"
    }
   },
   "outputs": [
    {
     "name": "stdout",
     "output_type": "stream",
     "text": [
      "Running check with dropout =  1\n",
      "Initial loss:  3.3919674304905376\n",
      "W1 relative error: 5.65e-07\n",
      "W2 relative error: 4.67e-07\n",
      "b1 relative error: 7.92e-08\n",
      "b2 relative error: 5.19e-10\n",
      "\n",
      "Running check with dropout =  0.75\n",
      "Initial loss:  3.3957061681410536\n",
      "W1 relative error: 5.16e-08\n",
      "W2 relative error: 2.90e-06\n",
      "b1 relative error: 6.45e-10\n",
      "b2 relative error: 3.40e-10\n",
      "\n",
      "Running check with dropout =  0.5\n",
      "Initial loss:  3.389794425382438\n",
      "W1 relative error: 1.91e-07\n",
      "W2 relative error: 1.54e-08\n",
      "b1 relative error: 1.32e-09\n",
      "b2 relative error: 4.54e-10\n",
      "\n"
     ]
    }
   ],
   "source": [
    "np.random.seed(231)\n",
    "N, D, H1, H2, C = 2, 15, 20, 30, 10\n",
    "X = np.random.randn(N, D)\n",
    "y = np.random.randint(C, size=(N,))\n",
    "\n",
    "for dropout in [1, 0.75, 0.5]:\n",
    "  print('Running check with dropout = ', dropout)\n",
    "  model = FullyConnectedNet([H1, H2], input_dim=D, num_classes=C,\n",
    "                            weight_scale=5e-2, dtype=np.float64,\n",
    "                            dropout=dropout, seed=123)\n",
    "\n",
    "  loss, grads = model.loss(X, y)\n",
    "  print('Initial loss: ', loss)\n",
    "  \n",
    "  # Relative errors should be around e-6 or less; Note that it's fine\n",
    "  # if for dropout=1 you have W2 error be on the order of e-5.\n",
    "  for name in sorted(grads):\n",
    "    f = lambda _: model.loss(X, y)[0]\n",
    "    grad_num = eval_numerical_gradient(f, model.params[name], verbose=False, h=1e-5)\n",
    "    print('%s relative error: %.2e' % (name, rel_error(grad_num, grads[name])))\n",
    "  print()"
   ]
  },
  {
   "cell_type": "markdown",
   "metadata": {},
   "source": [
    "# Regularization experiment\n",
    "As an experiment, we will train a pair of two-layer networks on 500 training examples: one will use no dropout, and one will use a keep probability of 0.25. We will then visualize the training and validation accuracies of the two networks over time."
   ]
  },
  {
   "cell_type": "code",
   "execution_count": 6,
   "metadata": {
    "ExecuteTime": {
     "end_time": "2018-07-20T05:28:14.155877Z",
     "start_time": "2018-07-20T05:25:51.041403Z"
    },
    "scrolled": false
   },
   "outputs": [
    {
     "name": "stdout",
     "output_type": "stream",
     "text": [
      "1\n",
      "(Iteration 1 / 220) loss: 6.221063\n",
      "(Epoch 0 / 55) train acc: 0.185547; val_acc: 0.149000\n",
      "(Epoch 1 / 55) train acc: 0.130859; val_acc: 0.123000\n",
      "(Epoch 2 / 55) train acc: 0.160156; val_acc: 0.132000\n",
      "(Epoch 3 / 55) train acc: 0.253906; val_acc: 0.197000\n",
      "(Epoch 4 / 55) train acc: 0.156250; val_acc: 0.140000\n",
      "(Epoch 5 / 55) train acc: 0.287109; val_acc: 0.242000\n",
      "(Epoch 6 / 55) train acc: 0.308594; val_acc: 0.230000\n",
      "(Epoch 7 / 55) train acc: 0.406250; val_acc: 0.288000\n",
      "(Epoch 8 / 55) train acc: 0.425781; val_acc: 0.285000\n",
      "(Epoch 9 / 55) train acc: 0.468750; val_acc: 0.287000\n",
      "(Epoch 10 / 55) train acc: 0.539062; val_acc: 0.306000\n",
      "(Epoch 11 / 55) train acc: 0.593750; val_acc: 0.331000\n",
      "(Epoch 12 / 55) train acc: 0.666016; val_acc: 0.342000\n",
      "(Epoch 13 / 55) train acc: 0.662109; val_acc: 0.314000\n",
      "(Epoch 14 / 55) train acc: 0.712891; val_acc: 0.315000\n",
      "(Epoch 15 / 55) train acc: 0.781250; val_acc: 0.313000\n",
      "(Epoch 16 / 55) train acc: 0.822266; val_acc: 0.311000\n",
      "(Epoch 17 / 55) train acc: 0.878906; val_acc: 0.323000\n",
      "(Epoch 18 / 55) train acc: 0.910156; val_acc: 0.299000\n",
      "(Epoch 19 / 55) train acc: 0.894531; val_acc: 0.312000\n",
      "(Epoch 20 / 55) train acc: 0.919922; val_acc: 0.316000\n",
      "(Epoch 21 / 55) train acc: 0.947266; val_acc: 0.323000\n",
      "(Epoch 22 / 55) train acc: 0.937500; val_acc: 0.311000\n",
      "(Epoch 23 / 55) train acc: 0.957031; val_acc: 0.308000\n",
      "(Epoch 24 / 55) train acc: 0.978516; val_acc: 0.323000\n",
      "(Epoch 25 / 55) train acc: 0.972656; val_acc: 0.322000\n",
      "(Iteration 101 / 220) loss: 0.161450\n",
      "(Epoch 26 / 55) train acc: 0.962891; val_acc: 0.288000\n",
      "(Epoch 27 / 55) train acc: 0.970703; val_acc: 0.334000\n",
      "(Epoch 28 / 55) train acc: 0.976562; val_acc: 0.296000\n",
      "(Epoch 29 / 55) train acc: 0.964844; val_acc: 0.305000\n",
      "(Epoch 30 / 55) train acc: 0.966797; val_acc: 0.282000\n",
      "(Epoch 31 / 55) train acc: 0.990234; val_acc: 0.311000\n",
      "(Epoch 32 / 55) train acc: 0.996094; val_acc: 0.309000\n",
      "(Epoch 33 / 55) train acc: 0.982422; val_acc: 0.298000\n",
      "(Epoch 34 / 55) train acc: 0.994141; val_acc: 0.296000\n",
      "(Epoch 35 / 55) train acc: 0.996094; val_acc: 0.310000\n",
      "(Epoch 36 / 55) train acc: 0.994141; val_acc: 0.295000\n",
      "(Epoch 37 / 55) train acc: 0.998047; val_acc: 0.308000\n",
      "(Epoch 38 / 55) train acc: 0.992188; val_acc: 0.283000\n",
      "(Epoch 39 / 55) train acc: 0.994141; val_acc: 0.313000\n",
      "(Epoch 40 / 55) train acc: 0.994141; val_acc: 0.332000\n",
      "(Epoch 41 / 55) train acc: 0.998047; val_acc: 0.312000\n",
      "(Epoch 42 / 55) train acc: 0.980469; val_acc: 0.288000\n",
      "(Epoch 43 / 55) train acc: 0.978516; val_acc: 0.334000\n",
      "(Epoch 44 / 55) train acc: 0.978516; val_acc: 0.308000\n",
      "(Epoch 45 / 55) train acc: 0.978516; val_acc: 0.313000\n",
      "(Epoch 46 / 55) train acc: 0.976562; val_acc: 0.308000\n",
      "(Epoch 47 / 55) train acc: 0.992188; val_acc: 0.293000\n",
      "(Epoch 48 / 55) train acc: 0.996094; val_acc: 0.297000\n",
      "(Epoch 49 / 55) train acc: 0.990234; val_acc: 0.317000\n",
      "(Epoch 50 / 55) train acc: 0.986328; val_acc: 0.339000\n",
      "(Iteration 201 / 220) loss: 0.088790\n",
      "(Epoch 51 / 55) train acc: 0.986328; val_acc: 0.329000\n",
      "(Epoch 52 / 55) train acc: 0.998047; val_acc: 0.321000\n",
      "(Epoch 53 / 55) train acc: 0.972656; val_acc: 0.340000\n",
      "(Epoch 54 / 55) train acc: 0.992188; val_acc: 0.318000\n",
      "(Epoch 55 / 55) train acc: 0.964844; val_acc: 0.334000\n",
      "0.75\n",
      "(Iteration 1 / 220) loss: 6.221100\n",
      "(Epoch 0 / 55) train acc: 0.160156; val_acc: 0.135000\n",
      "(Epoch 1 / 55) train acc: 0.105469; val_acc: 0.118000\n",
      "(Epoch 2 / 55) train acc: 0.156250; val_acc: 0.125000\n",
      "(Epoch 3 / 55) train acc: 0.208984; val_acc: 0.204000\n",
      "(Epoch 4 / 55) train acc: 0.265625; val_acc: 0.221000\n",
      "(Epoch 5 / 55) train acc: 0.318359; val_acc: 0.241000\n",
      "(Epoch 6 / 55) train acc: 0.351562; val_acc: 0.279000\n",
      "(Epoch 7 / 55) train acc: 0.427734; val_acc: 0.280000\n",
      "(Epoch 8 / 55) train acc: 0.435547; val_acc: 0.277000\n",
      "(Epoch 9 / 55) train acc: 0.507812; val_acc: 0.327000\n",
      "(Epoch 10 / 55) train acc: 0.539062; val_acc: 0.323000\n",
      "(Epoch 11 / 55) train acc: 0.576172; val_acc: 0.314000\n",
      "(Epoch 12 / 55) train acc: 0.636719; val_acc: 0.334000\n",
      "(Epoch 13 / 55) train acc: 0.703125; val_acc: 0.315000\n",
      "(Epoch 14 / 55) train acc: 0.677734; val_acc: 0.309000\n",
      "(Epoch 15 / 55) train acc: 0.769531; val_acc: 0.325000\n",
      "(Epoch 16 / 55) train acc: 0.814453; val_acc: 0.323000\n",
      "(Epoch 17 / 55) train acc: 0.812500; val_acc: 0.313000\n",
      "(Epoch 18 / 55) train acc: 0.861328; val_acc: 0.351000\n",
      "(Epoch 19 / 55) train acc: 0.843750; val_acc: 0.303000\n",
      "(Epoch 20 / 55) train acc: 0.876953; val_acc: 0.312000\n",
      "(Epoch 21 / 55) train acc: 0.916016; val_acc: 0.310000\n",
      "(Epoch 22 / 55) train acc: 0.916016; val_acc: 0.297000\n",
      "(Epoch 23 / 55) train acc: 0.953125; val_acc: 0.279000\n",
      "(Epoch 24 / 55) train acc: 0.931641; val_acc: 0.307000\n",
      "(Epoch 25 / 55) train acc: 0.962891; val_acc: 0.317000\n",
      "(Iteration 101 / 220) loss: 0.373854\n",
      "(Epoch 26 / 55) train acc: 0.958984; val_acc: 0.322000\n",
      "(Epoch 27 / 55) train acc: 0.974609; val_acc: 0.299000\n",
      "(Epoch 28 / 55) train acc: 0.976562; val_acc: 0.310000\n",
      "(Epoch 29 / 55) train acc: 0.980469; val_acc: 0.313000\n",
      "(Epoch 30 / 55) train acc: 0.982422; val_acc: 0.332000\n",
      "(Epoch 31 / 55) train acc: 0.996094; val_acc: 0.325000\n",
      "(Epoch 32 / 55) train acc: 0.984375; val_acc: 0.319000\n",
      "(Epoch 33 / 55) train acc: 0.992188; val_acc: 0.313000\n",
      "(Epoch 34 / 55) train acc: 0.982422; val_acc: 0.310000\n",
      "(Epoch 35 / 55) train acc: 0.990234; val_acc: 0.313000\n",
      "(Epoch 36 / 55) train acc: 0.978516; val_acc: 0.312000\n",
      "(Epoch 37 / 55) train acc: 0.992188; val_acc: 0.303000\n",
      "(Epoch 38 / 55) train acc: 0.990234; val_acc: 0.327000\n",
      "(Epoch 39 / 55) train acc: 0.976562; val_acc: 0.340000\n",
      "(Epoch 40 / 55) train acc: 0.962891; val_acc: 0.309000\n",
      "(Epoch 41 / 55) train acc: 0.978516; val_acc: 0.315000\n",
      "(Epoch 42 / 55) train acc: 0.976562; val_acc: 0.314000\n",
      "(Epoch 43 / 55) train acc: 0.972656; val_acc: 0.316000\n",
      "(Epoch 44 / 55) train acc: 0.972656; val_acc: 0.306000\n",
      "(Epoch 45 / 55) train acc: 0.992188; val_acc: 0.323000\n",
      "(Epoch 46 / 55) train acc: 0.988281; val_acc: 0.296000\n",
      "(Epoch 47 / 55) train acc: 0.992188; val_acc: 0.323000\n",
      "(Epoch 48 / 55) train acc: 0.992188; val_acc: 0.318000\n",
      "(Epoch 49 / 55) train acc: 0.990234; val_acc: 0.309000\n",
      "(Epoch 50 / 55) train acc: 0.980469; val_acc: 0.318000\n",
      "(Iteration 201 / 220) loss: 0.102006\n",
      "(Epoch 51 / 55) train acc: 0.994141; val_acc: 0.316000\n",
      "(Epoch 52 / 55) train acc: 0.984375; val_acc: 0.302000\n",
      "(Epoch 53 / 55) train acc: 0.994141; val_acc: 0.299000\n",
      "(Epoch 54 / 55) train acc: 0.994141; val_acc: 0.324000\n",
      "(Epoch 55 / 55) train acc: 0.992188; val_acc: 0.326000\n",
      "0.5\n",
      "(Iteration 1 / 220) loss: 6.210022\n",
      "(Epoch 0 / 55) train acc: 0.140625; val_acc: 0.140000\n",
      "(Epoch 1 / 55) train acc: 0.128906; val_acc: 0.119000\n",
      "(Epoch 2 / 55) train acc: 0.197266; val_acc: 0.201000\n",
      "(Epoch 3 / 55) train acc: 0.128906; val_acc: 0.119000\n",
      "(Epoch 4 / 55) train acc: 0.232422; val_acc: 0.200000\n",
      "(Epoch 5 / 55) train acc: 0.281250; val_acc: 0.262000\n",
      "(Epoch 6 / 55) train acc: 0.318359; val_acc: 0.258000\n",
      "(Epoch 7 / 55) train acc: 0.332031; val_acc: 0.246000\n",
      "(Epoch 8 / 55) train acc: 0.371094; val_acc: 0.280000\n",
      "(Epoch 9 / 55) train acc: 0.382812; val_acc: 0.288000\n",
      "(Epoch 10 / 55) train acc: 0.421875; val_acc: 0.286000\n",
      "(Epoch 11 / 55) train acc: 0.404297; val_acc: 0.284000\n",
      "(Epoch 12 / 55) train acc: 0.439453; val_acc: 0.299000\n",
      "(Epoch 13 / 55) train acc: 0.423828; val_acc: 0.264000\n",
      "(Epoch 14 / 55) train acc: 0.500000; val_acc: 0.311000\n",
      "(Epoch 15 / 55) train acc: 0.515625; val_acc: 0.294000\n",
      "(Epoch 16 / 55) train acc: 0.570312; val_acc: 0.303000\n",
      "(Epoch 17 / 55) train acc: 0.570312; val_acc: 0.308000\n",
      "(Epoch 18 / 55) train acc: 0.609375; val_acc: 0.321000\n",
      "(Epoch 19 / 55) train acc: 0.623047; val_acc: 0.316000\n",
      "(Epoch 20 / 55) train acc: 0.675781; val_acc: 0.325000\n",
      "(Epoch 21 / 55) train acc: 0.681641; val_acc: 0.327000\n",
      "(Epoch 22 / 55) train acc: 0.693359; val_acc: 0.311000\n",
      "(Epoch 23 / 55) train acc: 0.734375; val_acc: 0.333000\n",
      "(Epoch 24 / 55) train acc: 0.724609; val_acc: 0.319000\n",
      "(Epoch 25 / 55) train acc: 0.783203; val_acc: 0.302000\n",
      "(Iteration 101 / 220) loss: 1.064438\n",
      "(Epoch 26 / 55) train acc: 0.775391; val_acc: 0.315000\n",
      "(Epoch 27 / 55) train acc: 0.832031; val_acc: 0.334000\n",
      "(Epoch 28 / 55) train acc: 0.812500; val_acc: 0.335000\n",
      "(Epoch 29 / 55) train acc: 0.755859; val_acc: 0.331000\n",
      "(Epoch 30 / 55) train acc: 0.832031; val_acc: 0.298000\n",
      "(Epoch 31 / 55) train acc: 0.820312; val_acc: 0.320000\n",
      "(Epoch 32 / 55) train acc: 0.841797; val_acc: 0.324000\n"
     ]
    },
    {
     "name": "stdout",
     "output_type": "stream",
     "text": [
      "(Epoch 33 / 55) train acc: 0.853516; val_acc: 0.312000\n",
      "(Epoch 34 / 55) train acc: 0.828125; val_acc: 0.323000\n",
      "(Epoch 35 / 55) train acc: 0.859375; val_acc: 0.317000\n",
      "(Epoch 36 / 55) train acc: 0.892578; val_acc: 0.306000\n",
      "(Epoch 37 / 55) train acc: 0.900391; val_acc: 0.305000\n",
      "(Epoch 38 / 55) train acc: 0.910156; val_acc: 0.330000\n",
      "(Epoch 39 / 55) train acc: 0.916016; val_acc: 0.326000\n",
      "(Epoch 40 / 55) train acc: 0.925781; val_acc: 0.327000\n",
      "(Epoch 41 / 55) train acc: 0.941406; val_acc: 0.335000\n",
      "(Epoch 42 / 55) train acc: 0.949219; val_acc: 0.330000\n",
      "(Epoch 43 / 55) train acc: 0.953125; val_acc: 0.304000\n",
      "(Epoch 44 / 55) train acc: 0.958984; val_acc: 0.319000\n",
      "(Epoch 45 / 55) train acc: 0.941406; val_acc: 0.335000\n",
      "(Epoch 46 / 55) train acc: 0.947266; val_acc: 0.317000\n",
      "(Epoch 47 / 55) train acc: 0.966797; val_acc: 0.326000\n",
      "(Epoch 48 / 55) train acc: 0.970703; val_acc: 0.321000\n",
      "(Epoch 49 / 55) train acc: 0.978516; val_acc: 0.310000\n",
      "(Epoch 50 / 55) train acc: 0.968750; val_acc: 0.311000\n",
      "(Iteration 201 / 220) loss: 0.476007\n",
      "(Epoch 51 / 55) train acc: 0.962891; val_acc: 0.305000\n",
      "(Epoch 52 / 55) train acc: 0.970703; val_acc: 0.323000\n",
      "(Epoch 53 / 55) train acc: 0.964844; val_acc: 0.321000\n",
      "(Epoch 54 / 55) train acc: 0.988281; val_acc: 0.313000\n",
      "(Epoch 55 / 55) train acc: 0.962891; val_acc: 0.329000\n",
      "0.25\n",
      "(Iteration 1 / 220) loss: 6.251249\n",
      "(Epoch 0 / 55) train acc: 0.115234; val_acc: 0.117000\n",
      "(Epoch 1 / 55) train acc: 0.125000; val_acc: 0.128000\n",
      "(Epoch 2 / 55) train acc: 0.160156; val_acc: 0.134000\n",
      "(Epoch 3 / 55) train acc: 0.185547; val_acc: 0.177000\n",
      "(Epoch 4 / 55) train acc: 0.218750; val_acc: 0.173000\n",
      "(Epoch 5 / 55) train acc: 0.228516; val_acc: 0.187000\n",
      "(Epoch 6 / 55) train acc: 0.154297; val_acc: 0.129000\n",
      "(Epoch 7 / 55) train acc: 0.132812; val_acc: 0.121000\n",
      "(Epoch 8 / 55) train acc: 0.185547; val_acc: 0.169000\n",
      "(Epoch 9 / 55) train acc: 0.232422; val_acc: 0.199000\n",
      "(Epoch 10 / 55) train acc: 0.212891; val_acc: 0.182000\n",
      "(Epoch 11 / 55) train acc: 0.222656; val_acc: 0.186000\n",
      "(Epoch 12 / 55) train acc: 0.220703; val_acc: 0.194000\n",
      "(Epoch 13 / 55) train acc: 0.261719; val_acc: 0.221000\n",
      "(Epoch 14 / 55) train acc: 0.275391; val_acc: 0.228000\n",
      "(Epoch 15 / 55) train acc: 0.246094; val_acc: 0.212000\n",
      "(Epoch 16 / 55) train acc: 0.244141; val_acc: 0.205000\n",
      "(Epoch 17 / 55) train acc: 0.238281; val_acc: 0.194000\n",
      "(Epoch 18 / 55) train acc: 0.242188; val_acc: 0.216000\n",
      "(Epoch 19 / 55) train acc: 0.253906; val_acc: 0.224000\n",
      "(Epoch 20 / 55) train acc: 0.285156; val_acc: 0.229000\n",
      "(Epoch 21 / 55) train acc: 0.289062; val_acc: 0.225000\n",
      "(Epoch 22 / 55) train acc: 0.292969; val_acc: 0.242000\n",
      "(Epoch 23 / 55) train acc: 0.271484; val_acc: 0.240000\n",
      "(Epoch 24 / 55) train acc: 0.251953; val_acc: 0.235000\n",
      "(Epoch 25 / 55) train acc: 0.240234; val_acc: 0.229000\n",
      "(Iteration 101 / 220) loss: 2.374944\n",
      "(Epoch 26 / 55) train acc: 0.267578; val_acc: 0.224000\n",
      "(Epoch 27 / 55) train acc: 0.281250; val_acc: 0.236000\n",
      "(Epoch 28 / 55) train acc: 0.277344; val_acc: 0.233000\n",
      "(Epoch 29 / 55) train acc: 0.271484; val_acc: 0.227000\n",
      "(Epoch 30 / 55) train acc: 0.302734; val_acc: 0.251000\n",
      "(Epoch 31 / 55) train acc: 0.316406; val_acc: 0.277000\n",
      "(Epoch 32 / 55) train acc: 0.304688; val_acc: 0.270000\n",
      "(Epoch 33 / 55) train acc: 0.289062; val_acc: 0.260000\n",
      "(Epoch 34 / 55) train acc: 0.269531; val_acc: 0.252000\n",
      "(Epoch 35 / 55) train acc: 0.330078; val_acc: 0.289000\n",
      "(Epoch 36 / 55) train acc: 0.324219; val_acc: 0.271000\n",
      "(Epoch 37 / 55) train acc: 0.314453; val_acc: 0.214000\n",
      "(Epoch 38 / 55) train acc: 0.308594; val_acc: 0.226000\n",
      "(Epoch 39 / 55) train acc: 0.322266; val_acc: 0.253000\n",
      "(Epoch 40 / 55) train acc: 0.343750; val_acc: 0.265000\n",
      "(Epoch 41 / 55) train acc: 0.363281; val_acc: 0.282000\n",
      "(Epoch 42 / 55) train acc: 0.355469; val_acc: 0.281000\n",
      "(Epoch 43 / 55) train acc: 0.337891; val_acc: 0.250000\n",
      "(Epoch 44 / 55) train acc: 0.341797; val_acc: 0.256000\n",
      "(Epoch 45 / 55) train acc: 0.365234; val_acc: 0.286000\n",
      "(Epoch 46 / 55) train acc: 0.341797; val_acc: 0.272000\n",
      "(Epoch 47 / 55) train acc: 0.390625; val_acc: 0.273000\n",
      "(Epoch 48 / 55) train acc: 0.376953; val_acc: 0.273000\n",
      "(Epoch 49 / 55) train acc: 0.392578; val_acc: 0.278000\n",
      "(Epoch 50 / 55) train acc: 0.367188; val_acc: 0.276000\n",
      "(Iteration 201 / 220) loss: 1.906551\n",
      "(Epoch 51 / 55) train acc: 0.369141; val_acc: 0.278000\n",
      "(Epoch 52 / 55) train acc: 0.365234; val_acc: 0.276000\n",
      "(Epoch 53 / 55) train acc: 0.355469; val_acc: 0.257000\n",
      "(Epoch 54 / 55) train acc: 0.375000; val_acc: 0.260000\n",
      "(Epoch 55 / 55) train acc: 0.406250; val_acc: 0.269000\n"
     ]
    }
   ],
   "source": [
    "# Train two identical nets, one with dropout and one without\n",
    "np.random.seed(231)\n",
    "num_train = 512\n",
    "small_data = {\n",
    "  'X_train': data['X_train'][:num_train],\n",
    "  'y_train': data['y_train'][:num_train],\n",
    "  'X_val': data['X_val'],\n",
    "  'y_val': data['y_val'],\n",
    "}\n",
    "\n",
    "solvers = {}\n",
    "dropout_choices = [1, 0.75, 0.5, 0.25]\n",
    "for dropout in dropout_choices:\n",
    "  model = FullyConnectedNet([500, 500, 500, 500, 500], dropout=dropout)\n",
    "  print(dropout)\n",
    "\n",
    "  solver = Solver(model, small_data,\n",
    "                  num_epochs=55, batch_size=128,\n",
    "                  update_rule='adam',\n",
    "                  optim_config={\n",
    "                    'learning_rate': 5e-4,\n",
    "                  },\n",
    "                  verbose=True, print_every=100)\n",
    "  solver.train()\n",
    "  solvers[dropout] = solver"
   ]
  },
  {
   "cell_type": "code",
   "execution_count": 7,
   "metadata": {
    "ExecuteTime": {
     "end_time": "2018-07-20T05:28:14.524026Z",
     "start_time": "2018-07-20T05:28:14.163011Z"
    }
   },
   "outputs": [
    {
     "data": {
      "image/png": "[encoded data removed]",
      "text/plain": [
       "<matplotlib.figure.Figure at 0x7ffa5dad1470>"
      ]
     },
     "metadata": {},
     "output_type": "display_data"
    }
   ],
   "source": [
    "# Plot train and validation accuracies of the two models\n",
    "\n",
    "train_accs = []\n",
    "val_accs = []\n",
    "for dropout in dropout_choices:\n",
    "  solver = solvers[dropout]\n",
    "  train_accs.append(solver.train_acc_history[-1])\n",
    "  val_accs.append(solver.val_acc_history[-1])\n",
    "\n",
    "plt.subplot(3, 1, 1)\n",
    "for dropout in dropout_choices:\n",
    "  plt.plot(solvers[dropout].train_acc_history, 'o', label='%.2f dropout' % dropout)\n",
    "plt.title('Train accuracy')\n",
    "plt.xlabel('Epoch')\n",
    "plt.ylabel('Accuracy')\n",
    "plt.legend(ncol=2, loc='lower right')\n",
    "  \n",
    "plt.subplot(3, 1, 2)\n",
    "for dropout in dropout_choices:\n",
    "  plt.plot(solvers[dropout].val_acc_history, 'o', label='%.2f dropout' % dropout)\n",
    "plt.title('Val accuracy')\n",
    "plt.xlabel('Epoch')\n",
    "plt.ylabel('Accuracy')\n",
    "plt.legend(ncol=2, loc='lower right')\n",
    "\n",
    "plt.gcf().set_size_inches(15, 15)\n",
    "plt.show()"
   ]
  },
  {
   "cell_type": "markdown",
   "metadata": {},
   "source": [
    "## Inline Question 2:\n",
    "Compare the validation and training accuracies with and without dropout -- what do your results suggest about dropout as a regularizer?"
   ]
  },
  {
   "cell_type": "markdown",
   "metadata": {},
   "source": [
    "## Answer:\n"
   ]
  },
  {
   "cell_type": "markdown",
   "metadata": {},
   "source": [
    "## Inline Question 3:\n",
    "Suppose we are training a deep fully-connected network for image classification, with dropout after hidden layers (parameterized by keep probability p). How should we modify p, if at all, if we decide to decrease the size of the hidden layers (that is, the number of nodes in each layer)?"
   ]
  },
  {
   "cell_type": "markdown",
   "metadata": {},
   "source": [
    "## Answer:\n"
   ]
  },
  {
   "cell_type": "code",
   "execution_count": null,
   "metadata": {},
   "outputs": [],
   "source": []
  }
 ],
 "metadata": {
  "kernelspec": {
   "display_name": "Python 3",
   "language": "python",
   "name": "python3"
  },
  "language_info": {
   "codemirror_mode": {
    "name": "ipython",
    "version": 3
   },
   "file_extension": ".py",
   "mimetype": "text/x-python",
   "name": "python",
   "nbconvert_exporter": "python",
   "pygments_lexer": "ipython3",
   "version": "3.6.4"
  }
 },
 "nbformat": 4,
 "nbformat_minor": 2
}
