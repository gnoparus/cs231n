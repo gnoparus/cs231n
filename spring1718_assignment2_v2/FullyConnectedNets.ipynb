{
 "cells": [
  {
   "cell_type": "markdown",
   "metadata": {},
   "source": [
    "# Fully-Connected Neural Nets\n",
    "In the previous homework you implemented a fully-connected two-layer neural network on CIFAR-10. The implementation was simple but not very modular since the loss and gradient were computed in a single monolithic function. This is manageable for a simple two-layer network, but would become impractical as we move to bigger models. Ideally we want to build networks using a more modular design so that we can implement different layer types in isolation and then snap them together into models with different architectures.\n",
    "\n",
    "In this exercise we will implement fully-connected networks using a more modular approach. For each layer we will implement a `forward` and a `backward` function. The `forward` function will receive inputs, weights, and other parameters and will return both an output and a `cache` object storing data needed for the backward pass, like this:\n",
    "\n",
    "```python\n",
    "def layer_forward(x, w):\n",
    "  \"\"\" Receive inputs x and weights w \"\"\"\n",
    "  # Do some computations ...\n",
    "  z = # ... some intermediate value\n",
    "  # Do some more computations ...\n",
    "  out = # the output\n",
    "   \n",
    "  cache = (x, w, z, out) # Values we need to compute gradients\n",
    "   \n",
    "  return out, cache\n",
    "```\n",
    "\n",
    "The backward pass will receive upstream derivatives and the `cache` object, and will return gradients with respect to the inputs and weights, like this:\n",
    "\n",
    "```python\n",
    "def layer_backward(dout, cache):\n",
    "  \"\"\"\n",
    "  Receive dout (derivative of loss with respect to outputs) and cache,\n",
    "  and compute derivative with respect to inputs.\n",
    "  \"\"\"\n",
    "  # Unpack cache values\n",
    "  x, w, z, out = cache\n",
    "  \n",
    "  # Use values in cache to compute derivatives\n",
    "  dx = # Derivative of loss with respect to x\n",
    "  dw = # Derivative of loss with respect to w\n",
    "  \n",
    "  return dx, dw\n",
    "```\n",
    "\n",
    "After implementing a bunch of layers this way, we will be able to easily combine them to build classifiers with different architectures.\n",
    "\n",
    "In addition to implementing fully-connected networks of arbitrary depth, we will also explore different update rules for optimization, and introduce Dropout as a regularizer and Batch/Layer Normalization as a tool to more efficiently optimize deep networks.\n",
    "  "
   ]
  },
  {
   "cell_type": "code",
   "execution_count": 1,
   "metadata": {
    "ExecuteTime": {
     "end_time": "2018-07-20T05:14:40.790240Z",
     "start_time": "2018-07-20T05:14:34.369419Z"
    }
   },
   "outputs": [],
   "source": [
    "# As usual, a bit of setup\n",
    "from __future__ import print_function\n",
    "import time\n",
    "import numpy as np\n",
    "import matplotlib.pyplot as plt\n",
    "from cs231n.classifiers.fc_net import *\n",
    "from cs231n.data_utils import get_CIFAR10_data\n",
    "from cs231n.gradient_check import eval_numerical_gradient, eval_numerical_gradient_array\n",
    "from cs231n.solver import Solver\n",
    "\n",
    "%matplotlib inline\n",
    "plt.rcParams['figure.figsize'] = (10.0, 8.0) # set default size of plots\n",
    "plt.rcParams['image.interpolation'] = 'nearest'\n",
    "plt.rcParams['image.cmap'] = 'gray'\n",
    "\n",
    "# for auto-reloading external modules\n",
    "# see http://stackoverflow.com/questions/1907993/autoreload-of-modules-in-ipython\n",
    "%load_ext autoreload\n",
    "%autoreload 2\n",
    "\n",
    "def rel_error(x, y):\n",
    "  \"\"\" returns relative error \"\"\"\n",
    "  return np.max(np.abs(x - y) / (np.maximum(1e-8, np.abs(x) + np.abs(y))))"
   ]
  },
  {
   "cell_type": "code",
   "execution_count": 2,
   "metadata": {
    "ExecuteTime": {
     "end_time": "2018-07-20T05:14:49.646892Z",
     "start_time": "2018-07-20T05:14:40.791986Z"
    }
   },
   "outputs": [
    {
     "name": "stdout",
     "output_type": "stream",
     "text": [
      "('X_train: ', (49000, 3, 32, 32))\n",
      "('y_train: ', (49000,))\n",
      "('X_val: ', (1000, 3, 32, 32))\n",
      "('y_val: ', (1000,))\n",
      "('X_test: ', (1000, 3, 32, 32))\n",
      "('y_test: ', (1000,))\n"
     ]
    }
   ],
   "source": [
    "# Load the (preprocessed) CIFAR10 data.\n",
    "\n",
    "data = get_CIFAR10_data()\n",
    "for k, v in list(data.items()):\n",
    "  print(('%s: ' % k, v.shape))"
   ]
  },
  {
   "cell_type": "markdown",
   "metadata": {},
   "source": [
    "# Affine layer: foward\n",
    "Open the file `cs231n/layers.py` and implement the `affine_forward` function.\n",
    "\n",
    "Once you are done you can test your implementaion by running the following:"
   ]
  },
  {
   "cell_type": "code",
   "execution_count": 3,
   "metadata": {
    "ExecuteTime": {
     "end_time": "2018-07-20T05:14:49.721949Z",
     "start_time": "2018-07-20T05:14:49.649313Z"
    }
   },
   "outputs": [
    {
     "name": "stdout",
     "output_type": "stream",
     "text": [
      "Testing affine_forward function:\n",
      "difference:  9.769849468192957e-10\n"
     ]
    }
   ],
   "source": [
    "# Test the affine_forward function\n",
    "\n",
    "num_inputs = 2\n",
    "input_shape = (4, 5, 6)\n",
    "output_dim = 3\n",
    "\n",
    "input_size = num_inputs * np.prod(input_shape)\n",
    "weight_size = output_dim * np.prod(input_shape)\n",
    "\n",
    "x = np.linspace(-0.1, 0.5, num=input_size).reshape(num_inputs, *input_shape)\n",
    "w = np.linspace(-0.2, 0.3, num=weight_size).reshape(np.prod(input_shape), output_dim)\n",
    "b = np.linspace(-0.3, 0.1, num=output_dim)\n",
    "\n",
    "out, _ = affine_forward(x, w, b)\n",
    "correct_out = np.array([[ 1.49834967,  1.70660132,  1.91485297],\n",
    "                        [ 3.25553199,  3.5141327,   3.77273342]])\n",
    "\n",
    "# Compare your output with ours. The error should be around e-9 or less.\n",
    "print('Testing affine_forward function:')\n",
    "print('difference: ', rel_error(out, correct_out))"
   ]
  },
  {
   "cell_type": "markdown",
   "metadata": {},
   "source": [
    "# Affine layer: backward\n",
    "Now implement the `affine_backward` function and test your implementation using numeric gradient checking."
   ]
  },
  {
   "cell_type": "code",
   "execution_count": 4,
   "metadata": {
    "ExecuteTime": {
     "end_time": "2018-07-20T05:14:49.762839Z",
     "start_time": "2018-07-20T05:14:49.724149Z"
    }
   },
   "outputs": [
    {
     "name": "stdout",
     "output_type": "stream",
     "text": [
      "Testing affine_backward function:\n",
      "dx error:  5.399100368651805e-11\n",
      "dw error:  9.904211865398145e-11\n",
      "db error:  2.4122867568119087e-11\n"
     ]
    }
   ],
   "source": [
    "# Test the affine_backward function\n",
    "np.random.seed(231)\n",
    "x = np.random.randn(10, 2, 3)\n",
    "w = np.random.randn(6, 5)\n",
    "b = np.random.randn(5)\n",
    "dout = np.random.randn(10, 5)\n",
    "\n",
    "dx_num = eval_numerical_gradient_array(lambda x: affine_forward(x, w, b)[0], x, dout)\n",
    "dw_num = eval_numerical_gradient_array(lambda w: affine_forward(x, w, b)[0], w, dout)\n",
    "db_num = eval_numerical_gradient_array(lambda b: affine_forward(x, w, b)[0], b, dout)\n",
    "\n",
    "_, cache = affine_forward(x, w, b)\n",
    "dx, dw, db = affine_backward(dout, cache)\n",
    "\n",
    "# The error should be around e-10 or less\n",
    "print('Testing affine_backward function:')\n",
    "print('dx error: ', rel_error(dx_num, dx))\n",
    "print('dw error: ', rel_error(dw_num, dw))\n",
    "print('db error: ', rel_error(db_num, db))"
   ]
  },
  {
   "cell_type": "markdown",
   "metadata": {},
   "source": [
    "# ReLU activation: forward\n",
    "Implement the forward pass for the ReLU activation function in the `relu_forward` function and test your implementation using the following:"
   ]
  },
  {
   "cell_type": "code",
   "execution_count": 5,
   "metadata": {
    "ExecuteTime": {
     "end_time": "2018-07-20T05:14:49.784914Z",
     "start_time": "2018-07-20T05:14:49.764762Z"
    }
   },
   "outputs": [
    {
     "name": "stdout",
     "output_type": "stream",
     "text": [
      "Testing relu_forward function:\n",
      "difference:  4.999999798022158e-08\n"
     ]
    }
   ],
   "source": [
    "# Test the relu_forward function\n",
    "\n",
    "x = np.linspace(-0.5, 0.5, num=12).reshape(3, 4)\n",
    "\n",
    "out, _ = relu_forward(x)\n",
    "correct_out = np.array([[ 0.,          0.,          0.,          0.,        ],\n",
    "                        [ 0.,          0.,          0.04545455,  0.13636364,],\n",
    "                        [ 0.22727273,  0.31818182,  0.40909091,  0.5,       ]])\n",
    "\n",
    "# Compare your output with ours. The error should be on the order of e-8\n",
    "print('Testing relu_forward function:')\n",
    "print('difference: ', rel_error(out, correct_out))"
   ]
  },
  {
   "cell_type": "markdown",
   "metadata": {},
   "source": [
    "# ReLU activation: backward\n",
    "Now implement the backward pass for the ReLU activation function in the `relu_backward` function and test your implementation using numeric gradient checking:"
   ]
  },
  {
   "cell_type": "code",
   "execution_count": 6,
   "metadata": {
    "ExecuteTime": {
     "end_time": "2018-07-20T05:14:49.810414Z",
     "start_time": "2018-07-20T05:14:49.786759Z"
    }
   },
   "outputs": [
    {
     "name": "stdout",
     "output_type": "stream",
     "text": [
      "Testing relu_backward function:\n",
      "dx error:  3.2756349136310288e-12\n"
     ]
    }
   ],
   "source": [
    "np.random.seed(231)\n",
    "x = np.random.randn(10, 10)\n",
    "# print(x)\n",
    "dout = np.random.randn(*x.shape)\n",
    "\n",
    "dx_num = eval_numerical_gradient_array(lambda x: relu_forward(x)[0], x, dout)\n",
    "# print(dx_num)\n",
    "_, cache = relu_forward(x)\n",
    "dx = relu_backward(dout, cache)\n",
    "# print(dx)\n",
    "# The error should be on the order of e-12\n",
    "print('Testing relu_backward function:')\n",
    "print('dx error: ', rel_error(dx_num, dx))"
   ]
  },
  {
   "cell_type": "markdown",
   "metadata": {},
   "source": [
    "## Inline Question 1: \n",
    "\n",
    "We've only asked you to implement ReLU, but there are a number of different activation functions that one could use in neural networks, each with its pros and cons. In particular, an issue commonly seen with activation functions is getting zero (or close to zero) gradient flow during backpropagation. Which of the following activation functions have this problem? If you consider these functions in the one dimensional case, what types of input would lead to this behaviour?\n",
    "1. Sigmoid\n",
    "2. ReLU\n",
    "3. Leaky ReLU"
   ]
  },
  {
   "cell_type": "markdown",
   "metadata": {},
   "source": [
    "## Answer:\n",
    "Sigmoid"
   ]
  },
  {
   "cell_type": "markdown",
   "metadata": {},
   "source": [
    "# \"Sandwich\" layers\n",
    "There are some common patterns of layers that are frequently used in neural nets. For example, affine layers are frequently followed by a ReLU nonlinearity. To make these common patterns easy, we define several convenience layers in the file `cs231n/layer_utils.py`.\n",
    "\n",
    "For now take a look at the `affine_relu_forward` and `affine_relu_backward` functions, and run the following to numerically gradient check the backward pass:"
   ]
  },
  {
   "cell_type": "code",
   "execution_count": 7,
   "metadata": {
    "ExecuteTime": {
     "end_time": "2018-07-20T05:14:49.849815Z",
     "start_time": "2018-07-20T05:14:49.812080Z"
    }
   },
   "outputs": [
    {
     "name": "stdout",
     "output_type": "stream",
     "text": [
      "Testing affine_relu_forward and affine_relu_backward:\n",
      "dx error:  2.299579177309368e-11\n",
      "dw error:  8.162011105764925e-11\n",
      "db error:  7.826724021458994e-12\n"
     ]
    }
   ],
   "source": [
    "from cs231n.layer_utils import affine_relu_forward, affine_relu_backward\n",
    "np.random.seed(231)\n",
    "x = np.random.randn(2, 3, 4)\n",
    "w = np.random.randn(12, 10)\n",
    "b = np.random.randn(10)\n",
    "dout = np.random.randn(2, 10)\n",
    "\n",
    "out, cache = affine_relu_forward(x, w, b)\n",
    "dx, dw, db = affine_relu_backward(dout, cache)\n",
    "\n",
    "dx_num = eval_numerical_gradient_array(lambda x: affine_relu_forward(x, w, b)[0], x, dout)\n",
    "dw_num = eval_numerical_gradient_array(lambda w: affine_relu_forward(x, w, b)[0], w, dout)\n",
    "db_num = eval_numerical_gradient_array(lambda b: affine_relu_forward(x, w, b)[0], b, dout)\n",
    "\n",
    "# Relative error should be around e-10 or less\n",
    "print('Testing affine_relu_forward and affine_relu_backward:')\n",
    "print('dx error: ', rel_error(dx_num, dx))\n",
    "print('dw error: ', rel_error(dw_num, dw))\n",
    "print('db error: ', rel_error(db_num, db))"
   ]
  },
  {
   "cell_type": "markdown",
   "metadata": {},
   "source": [
    "# Loss layers: Softmax and SVM\n",
    "You implemented these loss functions in the last assignment, so we'll give them to you for free here. You should still make sure you understand how they work by looking at the implementations in `cs231n/layers.py`.\n",
    "\n",
    "You can make sure that the implementations are correct by running the following:"
   ]
  },
  {
   "cell_type": "code",
   "execution_count": 8,
   "metadata": {
    "ExecuteTime": {
     "end_time": "2018-07-20T05:14:50.008345Z",
     "start_time": "2018-07-20T05:14:49.851670Z"
    }
   },
   "outputs": [
    {
     "name": "stdout",
     "output_type": "stream",
     "text": [
      "Testing svm_loss:\n",
      "loss:  8.999602749096233\n",
      "dx error:  1.4021566006651672e-09\n",
      "\n",
      "Testing softmax_loss:\n",
      "loss:  2.302545844500738\n",
      "dx error:  9.384673161989355e-09\n"
     ]
    }
   ],
   "source": [
    "np.random.seed(231)\n",
    "num_classes, num_inputs = 10, 50\n",
    "x = 0.001 * np.random.randn(num_inputs, num_classes)\n",
    "y = np.random.randint(num_classes, size=num_inputs)\n",
    "\n",
    "dx_num = eval_numerical_gradient(lambda x: svm_loss(x, y)[0], x, verbose=False)\n",
    "loss, dx = svm_loss(x, y)\n",
    "\n",
    "# Test svm_loss function. Loss should be around 9 and dx error should be around the order of e-9\n",
    "print('Testing svm_loss:')\n",
    "print('loss: ', loss)\n",
    "print('dx error: ', rel_error(dx_num, dx))\n",
    "\n",
    "dx_num = eval_numerical_gradient(lambda x: softmax_loss(x, y)[0], x, verbose=False)\n",
    "loss, dx = softmax_loss(x, y)\n",
    "\n",
    "# Test softmax_loss function. Loss should be close to 2.3 and dx error should be around e-8\n",
    "print('\\nTesting softmax_loss:')\n",
    "print('loss: ', loss)\n",
    "print('dx error: ', rel_error(dx_num, dx))"
   ]
  },
  {
   "cell_type": "markdown",
   "metadata": {},
   "source": [
    "# Two-layer network\n",
    "In the previous assignment you implemented a two-layer neural network in a single monolithic class. Now that you have implemented modular versions of the necessary layers, you will reimplement the two layer network using these modular implementations.\n",
    "\n",
    "Open the file `cs231n/classifiers/fc_net.py` and complete the implementation of the `TwoLayerNet` class. This class will serve as a model for the other networks you will implement in this assignment, so read through it to make sure you understand the API. You can run the cell below to test your implementation."
   ]
  },
  {
   "cell_type": "code",
   "execution_count": 9,
   "metadata": {
    "ExecuteTime": {
     "end_time": "2018-07-20T05:14:50.524379Z",
     "start_time": "2018-07-20T05:14:50.010869Z"
    }
   },
   "outputs": [
    {
     "name": "stdout",
     "output_type": "stream",
     "text": [
      "Testing initialization ... \n",
      "Testing test-time forward pass ... \n",
      "Testing training loss (no regularization)\n",
      "Running numeric gradient check with reg =  0.0\n",
      "W1 relative error: 1.83e-08\n",
      "W2 relative error: 3.12e-10\n",
      "b1 relative error: 9.83e-09\n",
      "b2 relative error: 4.33e-10\n",
      "Running numeric gradient check with reg =  0.7\n",
      "W1 relative error: 2.53e-07\n",
      "W2 relative error: 2.85e-08\n",
      "b1 relative error: 1.56e-08\n",
      "b2 relative error: 7.76e-10\n"
     ]
    }
   ],
   "source": [
    "np.random.seed(231)\n",
    "N, D, H, C = 3, 5, 50, 7\n",
    "X = np.random.randn(N, D)\n",
    "y = np.random.randint(C, size=N)\n",
    "\n",
    "std = 1e-3\n",
    "model = TwoLayerNet(input_dim=D, hidden_dim=H, num_classes=C, weight_scale=std)\n",
    "\n",
    "print('Testing initialization ... ')\n",
    "W1_std = abs(model.params['W1'].std() - std)\n",
    "b1 = model.params['b1']\n",
    "W2_std = abs(model.params['W2'].std() - std)\n",
    "b2 = model.params['b2']\n",
    "assert W1_std < std / 10, 'First layer weights do not seem right'\n",
    "assert np.all(b1 == 0), 'First layer biases do not seem right'\n",
    "assert W2_std < std / 10, 'Second layer weights do not seem right'\n",
    "assert np.all(b2 == 0), 'Second layer biases do not seem right'\n",
    "\n",
    "print('Testing test-time forward pass ... ')\n",
    "model.params['W1'] = np.linspace(-0.7, 0.3, num=D*H).reshape(D, H)\n",
    "model.params['b1'] = np.linspace(-0.1, 0.9, num=H)\n",
    "model.params['W2'] = np.linspace(-0.3, 0.4, num=H*C).reshape(H, C)\n",
    "model.params['b2'] = np.linspace(-0.9, 0.1, num=C)\n",
    "X = np.linspace(-5.5, 4.5, num=N*D).reshape(D, N).T\n",
    "scores = model.loss(X)\n",
    "correct_scores = np.asarray(\n",
    "  [[11.53165108,  12.2917344,   13.05181771,  13.81190102,  14.57198434, 15.33206765,  16.09215096],\n",
    "   [12.05769098,  12.74614105,  13.43459113,  14.1230412,   14.81149128, 15.49994135,  16.18839143],\n",
    "   [12.58373087,  13.20054771,  13.81736455,  14.43418138,  15.05099822, 15.66781506,  16.2846319 ]])\n",
    "scores_diff = np.abs(scores - correct_scores).sum()\n",
    "assert scores_diff < 1e-6, 'Problem with test-time forward pass'\n",
    "\n",
    "print('Testing training loss (no regularization)')\n",
    "y = np.asarray([0, 5, 1])\n",
    "loss, grads = model.loss(X, y)\n",
    "correct_loss = 3.4702243556\n",
    "assert abs(loss - correct_loss) < 1e-10, 'Problem with training-time loss'\n",
    "\n",
    "model.reg = 1.0\n",
    "loss, grads = model.loss(X, y)\n",
    "correct_loss = 26.5948426952\n",
    "assert abs(loss - correct_loss) < 1e-10, 'Problem with regularization loss'\n",
    "\n",
    "# Errors should be around e-7 or less\n",
    "for reg in [0.0, 0.7]:\n",
    "  print('Running numeric gradient check with reg = ', reg)\n",
    "  model.reg = reg\n",
    "  loss, grads = model.loss(X, y)\n",
    "\n",
    "  for name in sorted(grads):\n",
    "    f = lambda _: model.loss(X, y)[0]\n",
    "    grad_num = eval_numerical_gradient(f, model.params[name], verbose=False)\n",
    "    print('%s relative error: %.2e' % (name, rel_error(grad_num, grads[name])))"
   ]
  },
  {
   "cell_type": "markdown",
   "metadata": {},
   "source": [
    "# Solver\n",
    "In the previous assignment, the logic for training models was coupled to the models themselves. Following a more modular design, for this assignment we have split the logic for training models into a separate class.\n",
    "\n",
    "Open the file `cs231n/solver.py` and read through it to familiarize yourself with the API. After doing so, use a `Solver` instance to train a `TwoLayerNet` that achieves at least `50%` accuracy on the validation set."
   ]
  },
  {
   "cell_type": "code",
   "execution_count": 10,
   "metadata": {
    "ExecuteTime": {
     "end_time": "2018-07-20T05:15:21.165859Z",
     "start_time": "2018-07-20T05:14:50.526747Z"
    }
   },
   "outputs": [
    {
     "name": "stdout",
     "output_type": "stream",
     "text": [
      "(Iteration 1 / 4900) loss: 2.300861\n",
      "(Epoch 0 / 10) train acc: 0.171000; val_acc: 0.170000\n",
      "(Iteration 101 / 4900) loss: 1.781932\n",
      "(Iteration 201 / 4900) loss: 1.804774\n",
      "(Iteration 301 / 4900) loss: 1.714795\n",
      "(Iteration 401 / 4900) loss: 1.703696\n",
      "(Epoch 1 / 10) train acc: 0.407000; val_acc: 0.431000\n",
      "(Iteration 501 / 4900) loss: 1.719054\n",
      "(Iteration 601 / 4900) loss: 1.441612\n",
      "(Iteration 701 / 4900) loss: 1.570396\n",
      "(Iteration 801 / 4900) loss: 1.523720\n",
      "(Iteration 901 / 4900) loss: 1.349472\n",
      "(Epoch 2 / 10) train acc: 0.469000; val_acc: 0.449000\n",
      "(Iteration 1001 / 4900) loss: 1.335067\n",
      "(Iteration 1101 / 4900) loss: 1.366670\n",
      "(Iteration 1201 / 4900) loss: 1.475325\n",
      "(Iteration 1301 / 4900) loss: 1.346082\n",
      "(Iteration 1401 / 4900) loss: 1.450056\n",
      "(Epoch 3 / 10) train acc: 0.471000; val_acc: 0.432000\n",
      "(Iteration 1501 / 4900) loss: 1.327722\n",
      "(Iteration 1601 / 4900) loss: 1.453760\n",
      "(Iteration 1701 / 4900) loss: 1.372380\n",
      "(Iteration 1801 / 4900) loss: 1.418936\n",
      "(Iteration 1901 / 4900) loss: 1.324949\n",
      "(Epoch 4 / 10) train acc: 0.478000; val_acc: 0.464000\n",
      "(Iteration 2001 / 4900) loss: 1.400108\n",
      "(Iteration 2101 / 4900) loss: 1.372038\n",
      "(Iteration 2201 / 4900) loss: 1.524814\n",
      "(Iteration 2301 / 4900) loss: 1.199266\n",
      "(Iteration 2401 / 4900) loss: 1.435360\n",
      "(Epoch 5 / 10) train acc: 0.520000; val_acc: 0.472000\n",
      "(Iteration 2501 / 4900) loss: 1.236913\n",
      "(Iteration 2601 / 4900) loss: 1.511746\n",
      "(Iteration 2701 / 4900) loss: 1.304314\n",
      "(Iteration 2801 / 4900) loss: 1.503168\n",
      "(Iteration 2901 / 4900) loss: 1.032327\n",
      "(Epoch 6 / 10) train acc: 0.546000; val_acc: 0.489000\n",
      "(Iteration 3001 / 4900) loss: 1.232436\n",
      "(Iteration 3101 / 4900) loss: 1.132423\n",
      "(Iteration 3201 / 4900) loss: 1.216931\n",
      "(Iteration 3301 / 4900) loss: 1.306391\n",
      "(Iteration 3401 / 4900) loss: 1.198213\n",
      "(Epoch 7 / 10) train acc: 0.554000; val_acc: 0.491000\n",
      "(Iteration 3501 / 4900) loss: 1.468215\n",
      "(Iteration 3601 / 4900) loss: 1.136750\n",
      "(Iteration 3701 / 4900) loss: 1.470302\n",
      "(Iteration 3801 / 4900) loss: 1.284274\n",
      "(Iteration 3901 / 4900) loss: 1.266028\n",
      "(Epoch 8 / 10) train acc: 0.546000; val_acc: 0.490000\n",
      "(Iteration 4001 / 4900) loss: 1.210479\n",
      "(Iteration 4101 / 4900) loss: 1.309811\n",
      "(Iteration 4201 / 4900) loss: 1.185395\n",
      "(Iteration 4301 / 4900) loss: 1.223909\n",
      "(Iteration 4401 / 4900) loss: 1.200419\n",
      "(Epoch 9 / 10) train acc: 0.588000; val_acc: 0.503000\n",
      "(Iteration 4501 / 4900) loss: 1.370134\n",
      "(Iteration 4601 / 4900) loss: 1.215125\n",
      "(Iteration 4701 / 4900) loss: 1.232976\n",
      "(Iteration 4801 / 4900) loss: 1.269735\n",
      "(Epoch 10 / 10) train acc: 0.559000; val_acc: 0.492000\n"
     ]
    }
   ],
   "source": [
    "model = TwoLayerNet(input_dim=3*32*32, hidden_dim=50, num_classes=10,\n",
    "                 weight_scale=1e-3, reg=0.01)\n",
    "solver = None\n",
    "\n",
    "##############################################################################\n",
    "# TODO: Use a Solver instance to train a TwoLayerNet that achieves at least  #\n",
    "# 50% accuracy on the validation set.                                        #\n",
    "##############################################################################\n",
    "\n",
    "# data = {\n",
    "#   'X_train': # training data\n",
    "#   'y_train': # training labels\n",
    "#   'X_val': # validation data\n",
    "#   'y_val': # validation labels\n",
    "# }\n",
    "\n",
    "solver = Solver(model, data,\n",
    "                update_rule='sgd',\n",
    "                optim_config={\n",
    "                  'learning_rate': 1e-3,\n",
    "                },\n",
    "                lr_decay=0.95,\n",
    "                num_epochs=10, batch_size=100,\n",
    "                print_every=100)\n",
    "solver.train()\n",
    "\n",
    "##############################################################################\n",
    "#                             END OF YOUR CODE                               #\n",
    "##############################################################################"
   ]
  },
  {
   "cell_type": "code",
   "execution_count": 11,
   "metadata": {
    "ExecuteTime": {
     "end_time": "2018-07-20T05:15:21.797170Z",
     "start_time": "2018-07-20T05:15:21.173572Z"
    }
   },
   "outputs": [
    {
     "data": {
      "image/png": "[encoded data removed]",
      "text/plain": [
       "<matplotlib.figure.Figure at 0x7f5ef2daa358>"
      ]
     },
     "metadata": {},
     "output_type": "display_data"
    }
   ],
   "source": [
    "# Run this cell to visualize training loss and train / val accuracy\n",
    "\n",
    "plt.subplot(2, 1, 1)\n",
    "plt.title('Training loss')\n",
    "plt.plot(solver.loss_history, 'o')\n",
    "plt.xlabel('Iteration')\n",
    "\n",
    "plt.subplot(2, 1, 2)\n",
    "plt.title('Accuracy')\n",
    "plt.plot(solver.train_acc_history, '-o', label='train')\n",
    "plt.plot(solver.val_acc_history, '-o', label='val')\n",
    "plt.plot([0.5] * len(solver.val_acc_history), 'k--')\n",
    "plt.xlabel('Epoch')\n",
    "plt.legend(loc='lower right')\n",
    "plt.gcf().set_size_inches(15, 12)\n",
    "plt.show()"
   ]
  },
  {
   "cell_type": "markdown",
   "metadata": {},
   "source": [
    "# Multilayer network\n",
    "Next you will implement a fully-connected network with an arbitrary number of hidden layers.\n",
    "\n",
    "Read through the `FullyConnectedNet` class in the file `cs231n/classifiers/fc_net.py`.\n",
    "\n",
    "Implement the initialization, the forward pass, and the backward pass. For the moment don't worry about implementing dropout or batch/layer normalization; we will add those features soon."
   ]
  },
  {
   "cell_type": "markdown",
   "metadata": {},
   "source": [
    "## Initial loss and gradient check"
   ]
  },
  {
   "cell_type": "markdown",
   "metadata": {},
   "source": [
    "As a sanity check, run the following to check the initial loss and to gradient check the network both with and without regularization. Do the initial losses seem reasonable?\n",
    "\n",
    "For gradient checking, you should expect to see errors around 1e-7 or less."
   ]
  },
  {
   "cell_type": "code",
   "execution_count": 12,
   "metadata": {
    "ExecuteTime": {
     "end_time": "2018-07-20T05:15:22.252880Z",
     "start_time": "2018-07-20T05:15:21.799167Z"
    }
   },
   "outputs": [
    {
     "name": "stdout",
     "output_type": "stream",
     "text": [
      "Running check with reg =  0\n",
      "Initial loss:  3.3919674304905376\n",
      "W1 relative error: 5.65e-07\n",
      "W2 relative error: 4.67e-07\n",
      "b1 relative error: 7.92e-08\n",
      "b2 relative error: 5.19e-10\n",
      "Running check with reg =  3.14\n",
      "Initial loss:  3.397162313010127\n",
      "W1 relative error: 5.09e-08\n",
      "W2 relative error: 3.42e-06\n",
      "b1 relative error: 1.22e-09\n",
      "b2 relative error: 4.85e-10\n"
     ]
    }
   ],
   "source": [
    "np.random.seed(231)\n",
    "N, D, H1, H2, C = 2, 15, 20, 30, 10\n",
    "X = np.random.randn(N, D)\n",
    "y = np.random.randint(C, size=(N,))\n",
    "\n",
    "for reg in [0, 3.14]:\n",
    "  print('Running check with reg = ', reg)\n",
    "  model = FullyConnectedNet([H1, H2], input_dim=D, num_classes=C,\n",
    "                            reg=reg, weight_scale=5e-2, dtype=np.float64)\n",
    "\n",
    "  loss, grads = model.loss(X, y)\n",
    "  print('Initial loss: ', loss)\n",
    "  \n",
    "  # Most of the errors should be on the order of e-7 or smaller.   \n",
    "  # NOTE: It is fine however to see an error for W2 on the order of e-5\n",
    "  # for the check when reg = 0.0\n",
    "  for name in sorted(grads):\n",
    "    f = lambda _: model.loss(X, y)[0]\n",
    "    grad_num = eval_numerical_gradient(f, model.params[name], verbose=False, h=1e-5)\n",
    "    print('%s relative error: %.2e' % (name, rel_error(grad_num, grads[name])))"
   ]
  },
  {
   "cell_type": "markdown",
   "metadata": {},
   "source": [
    "As another sanity check, make sure you can overfit a small dataset of 50 images. First we will try a three-layer network with 100 units in each hidden layer. In the following cell, tweak the learning rate and initialization scale to overfit and achieve 100% training accuracy within 20 epochs."
   ]
  },
  {
   "cell_type": "code",
   "execution_count": 13,
   "metadata": {
    "ExecuteTime": {
     "end_time": "2018-07-20T05:15:23.373470Z",
     "start_time": "2018-07-20T05:15:22.255619Z"
    },
    "scrolled": false
   },
   "outputs": [
    {
     "name": "stdout",
     "output_type": "stream",
     "text": [
      "(Iteration 1 / 40) loss: 604.751468\n",
      "(Epoch 0 / 20) train acc: 0.280000; val_acc: 0.094000\n",
      "(Epoch 1 / 20) train acc: 0.340000; val_acc: 0.113000\n",
      "(Epoch 2 / 20) train acc: 0.420000; val_acc: 0.145000\n",
      "(Epoch 3 / 20) train acc: 0.680000; val_acc: 0.153000\n",
      "(Epoch 4 / 20) train acc: 0.760000; val_acc: 0.139000\n",
      "(Epoch 5 / 20) train acc: 0.820000; val_acc: 0.146000\n",
      "(Iteration 11 / 40) loss: 28.594424\n",
      "(Epoch 6 / 20) train acc: 0.920000; val_acc: 0.159000\n",
      "(Epoch 7 / 20) train acc: 0.940000; val_acc: 0.161000\n",
      "(Epoch 8 / 20) train acc: 0.980000; val_acc: 0.159000\n",
      "(Epoch 9 / 20) train acc: 0.960000; val_acc: 0.162000\n",
      "(Epoch 10 / 20) train acc: 0.980000; val_acc: 0.157000\n",
      "(Iteration 21 / 40) loss: 0.000000\n",
      "(Epoch 11 / 20) train acc: 0.980000; val_acc: 0.157000\n",
      "(Epoch 12 / 20) train acc: 0.980000; val_acc: 0.157000\n",
      "(Epoch 13 / 20) train acc: 0.980000; val_acc: 0.157000\n",
      "(Epoch 14 / 20) train acc: 0.980000; val_acc: 0.157000\n",
      "(Epoch 15 / 20) train acc: 1.000000; val_acc: 0.160000\n",
      "(Iteration 31 / 40) loss: 0.000000\n",
      "(Epoch 16 / 20) train acc: 1.000000; val_acc: 0.160000\n",
      "(Epoch 17 / 20) train acc: 1.000000; val_acc: 0.160000\n",
      "(Epoch 18 / 20) train acc: 1.000000; val_acc: 0.160000\n",
      "(Epoch 19 / 20) train acc: 1.000000; val_acc: 0.160000\n",
      "(Epoch 20 / 20) train acc: 1.000000; val_acc: 0.160000\n"
     ]
    },
    {
     "data": {
      "image/png": "[encoded data removed]",
      "text/plain": [
       "<matplotlib.figure.Figure at 0x7f5f2cb2b4a8>"
      ]
     },
     "metadata": {},
     "output_type": "display_data"
    }
   ],
   "source": [
    "# TODO: Use a three-layer Net to overfit 50 training examples by \n",
    "# tweaking just the learning rate and initialization scale.\n",
    "\n",
    "num_train = 50\n",
    "small_data = {\n",
    "  'X_train': data['X_train'][:num_train],\n",
    "  'y_train': data['y_train'][:num_train],\n",
    "  'X_val': data['X_val'],\n",
    "  'y_val': data['y_val'],\n",
    "}\n",
    "\n",
    "weight_scale = 1e-1\n",
    "learning_rate = 1e-3\n",
    "model = FullyConnectedNet([100, 100],\n",
    "              weight_scale=weight_scale, dtype=np.float64)\n",
    "solver = Solver(model, small_data,\n",
    "                print_every=10, num_epochs=20, batch_size=25,\n",
    "                update_rule='sgd',\n",
    "                optim_config={\n",
    "                  'learning_rate': learning_rate,\n",
    "                }\n",
    "         )\n",
    "solver.train()\n",
    "\n",
    "plt.plot(solver.loss_history, 'o')\n",
    "plt.title('Training loss history')\n",
    "plt.xlabel('Iteration')\n",
    "plt.ylabel('Training loss')\n",
    "plt.show()"
   ]
  },
  {
   "cell_type": "markdown",
   "metadata": {},
   "source": [
    "Now try to use a five-layer network with 100 units on each layer to overfit 50 training examples. Again you will have to adjust the learning rate and weight initialization, but you should be able to achieve 100% training accuracy within 20 epochs."
   ]
  },
  {
   "cell_type": "code",
   "execution_count": 14,
   "metadata": {
    "ExecuteTime": {
     "end_time": "2018-07-20T05:15:24.487091Z",
     "start_time": "2018-07-20T05:15:23.375901Z"
    }
   },
   "outputs": [
    {
     "name": "stdout",
     "output_type": "stream",
     "text": [
      "(Iteration 1 / 40) loss: 9.686886\n",
      "(Epoch 0 / 20) train acc: 0.200000; val_acc: 0.080000\n",
      "(Epoch 1 / 20) train acc: 0.360000; val_acc: 0.082000\n",
      "(Epoch 2 / 20) train acc: 0.560000; val_acc: 0.115000\n",
      "(Epoch 3 / 20) train acc: 0.780000; val_acc: 0.109000\n",
      "(Epoch 4 / 20) train acc: 0.820000; val_acc: 0.128000\n",
      "(Epoch 5 / 20) train acc: 0.920000; val_acc: 0.153000\n",
      "(Iteration 11 / 40) loss: 0.355363\n",
      "(Epoch 6 / 20) train acc: 0.900000; val_acc: 0.148000\n",
      "(Epoch 7 / 20) train acc: 0.960000; val_acc: 0.142000\n",
      "(Epoch 8 / 20) train acc: 0.980000; val_acc: 0.152000\n",
      "(Epoch 9 / 20) train acc: 1.000000; val_acc: 0.152000\n",
      "(Epoch 10 / 20) train acc: 1.000000; val_acc: 0.155000\n",
      "(Iteration 21 / 40) loss: 0.106381\n",
      "(Epoch 11 / 20) train acc: 1.000000; val_acc: 0.151000\n",
      "(Epoch 12 / 20) train acc: 1.000000; val_acc: 0.152000\n",
      "(Epoch 13 / 20) train acc: 1.000000; val_acc: 0.144000\n",
      "(Epoch 14 / 20) train acc: 1.000000; val_acc: 0.144000\n",
      "(Epoch 15 / 20) train acc: 1.000000; val_acc: 0.151000\n",
      "(Iteration 31 / 40) loss: 0.046363\n",
      "(Epoch 16 / 20) train acc: 1.000000; val_acc: 0.151000\n",
      "(Epoch 17 / 20) train acc: 1.000000; val_acc: 0.149000\n",
      "(Epoch 18 / 20) train acc: 1.000000; val_acc: 0.153000\n",
      "(Epoch 19 / 20) train acc: 1.000000; val_acc: 0.148000\n",
      "(Epoch 20 / 20) train acc: 1.000000; val_acc: 0.152000\n"
     ]
    },
    {
     "data": {
      "image/png": "[encoded data removed]",
      "text/plain": [
       "<matplotlib.figure.Figure at 0x7f5ef14051d0>"
      ]
     },
     "metadata": {},
     "output_type": "display_data"
    }
   ],
   "source": [
    "# TODO: Use a five-layer Net to overfit 50 training examples by \n",
    "# tweaking just the learning rate and initialization scale.\n",
    "\n",
    "num_train = 50\n",
    "small_data = {\n",
    "  'X_train': data['X_train'][:num_train],\n",
    "  'y_train': data['y_train'][:num_train],\n",
    "  'X_val': data['X_val'],\n",
    "  'y_val': data['y_val'],\n",
    "}\n",
    "\n",
    "learning_rate = 4e-3\n",
    "weight_scale = 4e-2\n",
    "model = FullyConnectedNet([100, 100, 100, 100],\n",
    "                weight_scale=weight_scale, dtype=np.float64)\n",
    "solver = Solver(model, small_data,\n",
    "                print_every=10, num_epochs=20, batch_size=25,\n",
    "                update_rule='sgd',\n",
    "                optim_config={\n",
    "                  'learning_rate': learning_rate,\n",
    "                }\n",
    "         )\n",
    "solver.train()\n",
    "\n",
    "plt.plot(solver.loss_history, 'o')\n",
    "plt.title('Training loss history')\n",
    "plt.xlabel('Iteration')\n",
    "plt.ylabel('Training loss')\n",
    "plt.show()"
   ]
  },
  {
   "cell_type": "markdown",
   "metadata": {},
   "source": [
    "## Inline Question 2: \n",
    "Did you notice anything about the comparative difficulty of training the three-layer net vs training the five layer net? In particular, based on your experience, which network seemed more sensitive to the initialization scale? Why do you think that is the case?"
   ]
  },
  {
   "cell_type": "markdown",
   "metadata": {},
   "source": [
    "## Answer:\n",
    "[FILL THIS IN]\n"
   ]
  },
  {
   "cell_type": "markdown",
   "metadata": {},
   "source": [
    "# Update rules\n",
    "So far we have used vanilla stochastic gradient descent (SGD) as our update rule. More sophisticated update rules can make it easier to train deep networks. We will implement a few of the most commonly used update rules and compare them to vanilla SGD."
   ]
  },
  {
   "cell_type": "markdown",
   "metadata": {},
   "source": [
    "# SGD+Momentum\n",
    "Stochastic gradient descent with momentum is a widely used update rule that tends to make deep networks converge faster than vanilla stochastic gradient descent. See the Momentum Update section at http://cs231n.github.io/neural-networks-3/#sgd for more information.\n",
    "\n",
    "Open the file `cs231n/optim.py` and read the documentation at the top of the file to make sure you understand the API. Implement the SGD+momentum update rule in the function `sgd_momentum` and run the following to check your implementation. You should see errors less than e-8."
   ]
  },
  {
   "cell_type": "code",
   "execution_count": 15,
   "metadata": {
    "ExecuteTime": {
     "end_time": "2018-07-20T05:15:24.531857Z",
     "start_time": "2018-07-20T05:15:24.489968Z"
    }
   },
   "outputs": [
    {
     "name": "stdout",
     "output_type": "stream",
     "text": [
      "next_w error:  8.882347033505819e-09\n",
      "velocity error:  4.269287743278663e-09\n"
     ]
    }
   ],
   "source": [
    "from cs231n.optim import sgd_momentum\n",
    "\n",
    "N, D = 4, 5\n",
    "w = np.linspace(-0.4, 0.6, num=N*D).reshape(N, D)\n",
    "dw = np.linspace(-0.6, 0.4, num=N*D).reshape(N, D)\n",
    "v = np.linspace(0.6, 0.9, num=N*D).reshape(N, D)\n",
    "\n",
    "config = {'learning_rate': 1e-3, 'velocity': v}\n",
    "next_w, _ = sgd_momentum(w, dw, config=config)\n",
    "\n",
    "expected_next_w = np.asarray([\n",
    "  [ 0.1406,      0.20738947,  0.27417895,  0.34096842,  0.40775789],\n",
    "  [ 0.47454737,  0.54133684,  0.60812632,  0.67491579,  0.74170526],\n",
    "  [ 0.80849474,  0.87528421,  0.94207368,  1.00886316,  1.07565263],\n",
    "  [ 1.14244211,  1.20923158,  1.27602105,  1.34281053,  1.4096    ]])\n",
    "expected_velocity = np.asarray([\n",
    "  [ 0.5406,      0.55475789,  0.56891579, 0.58307368,  0.59723158],\n",
    "  [ 0.61138947,  0.62554737,  0.63970526,  0.65386316,  0.66802105],\n",
    "  [ 0.68217895,  0.69633684,  0.71049474,  0.72465263,  0.73881053],\n",
    "  [ 0.75296842,  0.76712632,  0.78128421,  0.79544211,  0.8096    ]])\n",
    "\n",
    "# Should see relative errors around e-8 or less\n",
    "print('next_w error: ', rel_error(next_w, expected_next_w))\n",
    "print('velocity error: ', rel_error(expected_velocity, config['velocity']))"
   ]
  },
  {
   "cell_type": "markdown",
   "metadata": {},
   "source": [
    "Once you have done so, run the following to train a six-layer network with both SGD and SGD+momentum. You should see the SGD+momentum update rule converge faster."
   ]
  },
  {
   "cell_type": "code",
   "execution_count": 16,
   "metadata": {
    "ExecuteTime": {
     "end_time": "2018-07-20T05:15:57.192998Z",
     "start_time": "2018-07-20T05:15:24.533919Z"
    },
    "scrolled": false
   },
   "outputs": [
    {
     "name": "stdout",
     "output_type": "stream",
     "text": [
      "running with  sgd\n",
      "(Iteration 1 / 1875) loss: 11.148323\n",
      "(Epoch 0 / 15) train acc: 0.000000; val_acc: 0.000000\n",
      "(Iteration 11 / 1875) loss: 9.014797\n",
      "(Iteration 21 / 1875) loss: 8.381308\n",
      "(Iteration 31 / 1875) loss: 6.110962\n",
      "(Iteration 41 / 1875) loss: 7.432826\n",
      "(Iteration 51 / 1875) loss: 5.936455\n",
      "(Iteration 61 / 1875) loss: 5.658859\n",
      "(Iteration 71 / 1875) loss: 5.380299\n",
      "(Iteration 81 / 1875) loss: 4.945440\n",
      "(Iteration 91 / 1875) loss: 4.950041\n",
      "(Iteration 101 / 1875) loss: 4.624794\n",
      "(Iteration 111 / 1875) loss: 4.397914\n",
      "(Iteration 121 / 1875) loss: 4.436295\n",
      "(Epoch 1 / 15) train acc: 0.039000; val_acc: 0.047000\n",
      "(Iteration 131 / 1875) loss: 4.292925\n",
      "(Iteration 141 / 1875) loss: 3.861571\n",
      "(Iteration 151 / 1875) loss: 3.722964\n",
      "(Iteration 161 / 1875) loss: 4.093368\n",
      "(Iteration 171 / 1875) loss: 4.323972\n",
      "(Iteration 181 / 1875) loss: 3.916921\n",
      "(Iteration 191 / 1875) loss: 3.376041\n",
      "(Iteration 201 / 1875) loss: 3.521199\n",
      "(Iteration 211 / 1875) loss: 3.535804\n",
      "(Iteration 221 / 1875) loss: 3.521391\n",
      "(Iteration 231 / 1875) loss: 3.341027\n",
      "(Iteration 241 / 1875) loss: 3.389453\n",
      "(Epoch 2 / 15) train acc: 0.116000; val_acc: 0.106000\n",
      "(Iteration 251 / 1875) loss: 3.306347\n",
      "(Iteration 261 / 1875) loss: 3.210855\n",
      "(Iteration 271 / 1875) loss: 3.279470\n",
      "(Iteration 281 / 1875) loss: 3.555494\n",
      "(Iteration 291 / 1875) loss: 2.866634\n",
      "(Iteration 301 / 1875) loss: 3.380776\n",
      "(Iteration 311 / 1875) loss: 2.673400\n",
      "(Iteration 321 / 1875) loss: 2.888752\n",
      "(Iteration 331 / 1875) loss: 3.165629\n",
      "(Iteration 341 / 1875) loss: 2.887598\n",
      "(Iteration 351 / 1875) loss: 2.859507\n",
      "(Iteration 361 / 1875) loss: 2.656694\n",
      "(Iteration 371 / 1875) loss: 3.040174\n",
      "(Epoch 3 / 15) train acc: 0.151000; val_acc: 0.123000\n",
      "(Iteration 381 / 1875) loss: 2.821626\n",
      "(Iteration 391 / 1875) loss: 2.805584\n",
      "(Iteration 401 / 1875) loss: 2.510270\n",
      "(Iteration 411 / 1875) loss: 2.778892\n",
      "(Iteration 421 / 1875) loss: 2.519933\n",
      "(Iteration 431 / 1875) loss: 2.876276\n",
      "(Iteration 441 / 1875) loss: 2.913853\n",
      "(Iteration 451 / 1875) loss: 2.795330\n",
      "(Iteration 461 / 1875) loss: 2.468414\n",
      "(Iteration 471 / 1875) loss: 2.377161\n",
      "(Iteration 481 / 1875) loss: 2.496459\n",
      "(Iteration 491 / 1875) loss: 2.697556\n",
      "(Epoch 4 / 15) train acc: 0.161000; val_acc: 0.140000\n",
      "(Iteration 501 / 1875) loss: 2.473796\n",
      "(Iteration 511 / 1875) loss: 2.842643\n",
      "(Iteration 521 / 1875) loss: 2.774019\n",
      "(Iteration 531 / 1875) loss: 2.407799\n",
      "(Iteration 541 / 1875) loss: 2.604275\n",
      "(Iteration 551 / 1875) loss: 2.488682\n",
      "(Iteration 561 / 1875) loss: 2.477501\n",
      "(Iteration 571 / 1875) loss: 2.573383\n",
      "(Iteration 581 / 1875) loss: 2.506455\n",
      "(Iteration 591 / 1875) loss: 2.797898\n",
      "(Iteration 601 / 1875) loss: 2.559071\n",
      "(Iteration 611 / 1875) loss: 2.671284\n",
      "(Iteration 621 / 1875) loss: 2.562908\n",
      "(Epoch 5 / 15) train acc: 0.182000; val_acc: 0.157000\n",
      "(Iteration 631 / 1875) loss: 2.532964\n",
      "(Iteration 641 / 1875) loss: 2.379233\n",
      "(Iteration 651 / 1875) loss: 2.615157\n",
      "(Iteration 661 / 1875) loss: 2.467343\n",
      "(Iteration 671 / 1875) loss: 2.492219\n",
      "(Iteration 681 / 1875) loss: 2.159411\n",
      "(Iteration 691 / 1875) loss: 2.352656\n",
      "(Iteration 701 / 1875) loss: 2.215536\n",
      "(Iteration 711 / 1875) loss: 2.442370\n",
      "(Iteration 721 / 1875) loss: 2.242886\n",
      "(Iteration 731 / 1875) loss: 2.390073\n",
      "(Iteration 741 / 1875) loss: 2.332266\n",
      "(Epoch 6 / 15) train acc: 0.194000; val_acc: 0.178000\n",
      "(Iteration 751 / 1875) loss: 2.538465\n",
      "(Iteration 761 / 1875) loss: 2.527202\n",
      "(Iteration 771 / 1875) loss: 2.177602\n",
      "(Iteration 781 / 1875) loss: 2.424543\n",
      "(Iteration 791 / 1875) loss: 2.783263\n",
      "(Iteration 801 / 1875) loss: 2.615906\n",
      "(Iteration 811 / 1875) loss: 2.183658\n",
      "(Iteration 821 / 1875) loss: 2.121839\n",
      "(Iteration 831 / 1875) loss: 2.282663\n",
      "(Iteration 841 / 1875) loss: 1.922044\n",
      "(Iteration 851 / 1875) loss: 2.164678\n",
      "(Iteration 861 / 1875) loss: 2.151740\n",
      "(Iteration 871 / 1875) loss: 2.525320\n",
      "(Epoch 7 / 15) train acc: 0.190000; val_acc: 0.190000\n",
      "(Iteration 881 / 1875) loss: 1.985201\n",
      "(Iteration 891 / 1875) loss: 2.489974\n",
      "(Iteration 901 / 1875) loss: 2.087604\n",
      "(Iteration 911 / 1875) loss: 2.054170\n",
      "(Iteration 921 / 1875) loss: 2.096539\n",
      "(Iteration 931 / 1875) loss: 2.178095\n",
      "(Iteration 941 / 1875) loss: 2.084111\n",
      "(Iteration 951 / 1875) loss: 2.203477\n",
      "(Iteration 961 / 1875) loss: 2.347236\n",
      "(Iteration 971 / 1875) loss: 2.347353\n",
      "(Iteration 981 / 1875) loss: 1.929670\n",
      "(Iteration 991 / 1875) loss: 2.419845\n",
      "(Epoch 8 / 15) train acc: 0.233000; val_acc: 0.203000\n",
      "(Iteration 1001 / 1875) loss: 2.279789\n",
      "(Iteration 1011 / 1875) loss: 2.450100\n",
      "(Iteration 1021 / 1875) loss: 2.316504\n",
      "(Iteration 1031 / 1875) loss: 2.042815\n",
      "(Iteration 1041 / 1875) loss: 2.170137\n",
      "(Iteration 1051 / 1875) loss: 2.434032\n",
      "(Iteration 1061 / 1875) loss: 2.473743\n",
      "(Iteration 1071 / 1875) loss: 2.378527\n",
      "(Iteration 1081 / 1875) loss: 2.259990\n",
      "(Iteration 1091 / 1875) loss: 2.295448\n",
      "(Iteration 1101 / 1875) loss: 2.152744\n",
      "(Iteration 1111 / 1875) loss: 2.451117\n",
      "(Iteration 1121 / 1875) loss: 2.101651\n",
      "(Epoch 9 / 15) train acc: 0.230000; val_acc: 0.200000\n",
      "(Iteration 1131 / 1875) loss: 2.599242\n",
      "(Iteration 1141 / 1875) loss: 2.171327\n",
      "(Iteration 1151 / 1875) loss: 2.150258\n",
      "(Iteration 1161 / 1875) loss: 2.116091\n",
      "(Iteration 1171 / 1875) loss: 1.935238\n",
      "(Iteration 1181 / 1875) loss: 2.023172\n",
      "(Iteration 1191 / 1875) loss: 2.379216\n",
      "(Iteration 1201 / 1875) loss: 2.119277\n",
      "(Iteration 1211 / 1875) loss: 1.969254\n",
      "(Iteration 1221 / 1875) loss: 2.234941\n",
      "(Iteration 1231 / 1875) loss: 2.036002\n",
      "(Iteration 1241 / 1875) loss: 2.305775\n",
      "(Epoch 10 / 15) train acc: 0.249000; val_acc: 0.213000\n",
      "(Iteration 1251 / 1875) loss: 1.938394\n",
      "(Iteration 1261 / 1875) loss: 2.574530\n",
      "(Iteration 1271 / 1875) loss: 2.236835\n",
      "(Iteration 1281 / 1875) loss: 2.097151\n",
      "(Iteration 1291 / 1875) loss: 2.464198\n",
      "(Iteration 1301 / 1875) loss: 2.008821\n",
      "(Iteration 1311 / 1875) loss: 1.962376\n",
      "(Iteration 1321 / 1875) loss: 2.154117\n",
      "(Iteration 1331 / 1875) loss: 2.137091\n",
      "(Iteration 1341 / 1875) loss: 2.056704\n",
      "(Iteration 1351 / 1875) loss: 2.067008\n",
      "(Iteration 1361 / 1875) loss: 2.286041\n",
      "(Iteration 1371 / 1875) loss: 2.233665\n",
      "(Epoch 11 / 15) train acc: 0.265000; val_acc: 0.222000\n",
      "(Iteration 1381 / 1875) loss: 2.019891\n",
      "(Iteration 1391 / 1875) loss: 1.915830\n",
      "(Iteration 1401 / 1875) loss: 2.317403\n",
      "(Iteration 1411 / 1875) loss: 2.342117\n",
      "(Iteration 1421 / 1875) loss: 2.185667\n",
      "(Iteration 1431 / 1875) loss: 1.972528\n",
      "(Iteration 1441 / 1875) loss: 1.956720\n",
      "(Iteration 1451 / 1875) loss: 2.321655\n",
      "(Iteration 1461 / 1875) loss: 1.999835\n",
      "(Iteration 1471 / 1875) loss: 1.962532\n",
      "(Iteration 1481 / 1875) loss: 2.422986\n",
      "(Iteration 1491 / 1875) loss: 2.104883\n",
      "(Epoch 12 / 15) train acc: 0.261000; val_acc: 0.235000\n",
      "(Iteration 1501 / 1875) loss: 1.863536\n",
      "(Iteration 1511 / 1875) loss: 2.225852\n",
      "(Iteration 1521 / 1875) loss: 2.014179\n",
      "(Iteration 1531 / 1875) loss: 2.220714\n",
      "(Iteration 1541 / 1875) loss: 2.088045\n",
      "(Iteration 1551 / 1875) loss: 2.099689\n",
      "(Iteration 1561 / 1875) loss: 2.420173\n",
      "(Iteration 1571 / 1875) loss: 2.031072\n",
      "(Iteration 1581 / 1875) loss: 2.144928\n",
      "(Iteration 1591 / 1875) loss: 2.355770\n",
      "(Iteration 1601 / 1875) loss: 2.126230\n",
      "(Iteration 1611 / 1875) loss: 2.077862\n",
      "(Iteration 1621 / 1875) loss: 2.126086\n",
      "(Epoch 13 / 15) train acc: 0.271000; val_acc: 0.229000\n",
      "(Iteration 1631 / 1875) loss: 1.983382\n",
      "(Iteration 1641 / 1875) loss: 2.256999\n",
      "(Iteration 1651 / 1875) loss: 1.998041\n",
      "(Iteration 1661 / 1875) loss: 2.176335\n",
      "(Iteration 1671 / 1875) loss: 2.055326\n",
      "(Iteration 1681 / 1875) loss: 2.474421\n",
      "(Iteration 1691 / 1875) loss: 1.960538\n",
      "(Iteration 1701 / 1875) loss: 2.332246\n",
      "(Iteration 1711 / 1875) loss: 2.053440\n",
      "(Iteration 1721 / 1875) loss: 2.143533\n",
      "(Iteration 1731 / 1875) loss: 2.183550\n",
      "(Iteration 1741 / 1875) loss: 2.320308\n",
      "(Epoch 14 / 15) train acc: 0.273000; val_acc: 0.240000\n",
      "(Iteration 1751 / 1875) loss: 2.205860\n",
      "(Iteration 1761 / 1875) loss: 2.061282\n",
      "(Iteration 1771 / 1875) loss: 1.841482\n",
      "(Iteration 1781 / 1875) loss: 2.138862\n",
      "(Iteration 1791 / 1875) loss: 2.029409\n",
      "(Iteration 1801 / 1875) loss: 2.002022\n",
      "(Iteration 1811 / 1875) loss: 2.189503\n",
      "(Iteration 1821 / 1875) loss: 1.883694\n",
      "(Iteration 1831 / 1875) loss: 2.168439\n",
      "(Iteration 1841 / 1875) loss: 2.211910\n",
      "(Iteration 1851 / 1875) loss: 2.479275\n",
      "(Iteration 1861 / 1875) loss: 1.808851\n",
      "(Iteration 1871 / 1875) loss: 2.072721\n",
      "(Epoch 15 / 15) train acc: 0.279000; val_acc: 0.248000\n",
      "\n",
      "running with  sgd_momentum\n",
      "(Iteration 1 / 1875) loss: 8.291153\n",
      "(Epoch 0 / 15) train acc: 0.000000; val_acc: 0.001000\n"
     ]
    },
    {
     "name": "stdout",
     "output_type": "stream",
     "text": [
      "(Iteration 11 / 1875) loss: 3.995224\n",
      "(Iteration 21 / 1875) loss: 3.038560\n",
      "(Iteration 31 / 1875) loss: 2.941000\n",
      "(Iteration 41 / 1875) loss: 2.415023\n",
      "(Iteration 51 / 1875) loss: 2.523180\n",
      "(Iteration 61 / 1875) loss: 2.377323\n",
      "(Iteration 71 / 1875) loss: 2.071779\n",
      "(Iteration 81 / 1875) loss: 2.255714\n",
      "(Iteration 91 / 1875) loss: 2.581170\n",
      "(Iteration 101 / 1875) loss: 2.241390\n",
      "(Iteration 111 / 1875) loss: 2.181724\n",
      "(Iteration 121 / 1875) loss: 2.198290\n",
      "(Epoch 1 / 15) train acc: 0.232000; val_acc: 0.224000\n",
      "(Iteration 131 / 1875) loss: 2.119790\n",
      "(Iteration 141 / 1875) loss: 2.004496\n",
      "(Iteration 151 / 1875) loss: 2.066536\n",
      "(Iteration 161 / 1875) loss: 1.952728\n",
      "(Iteration 171 / 1875) loss: 2.344973\n",
      "(Iteration 181 / 1875) loss: 2.202407\n",
      "(Iteration 191 / 1875) loss: 2.198868\n",
      "(Iteration 201 / 1875) loss: 2.098310\n",
      "(Iteration 211 / 1875) loss: 1.718037\n",
      "(Iteration 221 / 1875) loss: 1.899579\n",
      "(Iteration 231 / 1875) loss: 1.839651\n",
      "(Iteration 241 / 1875) loss: 2.068691\n",
      "(Epoch 2 / 15) train acc: 0.284000; val_acc: 0.259000\n",
      "(Iteration 251 / 1875) loss: 1.865578\n",
      "(Iteration 261 / 1875) loss: 1.773984\n",
      "(Iteration 271 / 1875) loss: 1.954605\n",
      "(Iteration 281 / 1875) loss: 1.964518\n",
      "(Iteration 291 / 1875) loss: 1.870122\n",
      "(Iteration 301 / 1875) loss: 1.809188\n",
      "(Iteration 311 / 1875) loss: 1.959246\n",
      "(Iteration 321 / 1875) loss: 1.750333\n",
      "(Iteration 331 / 1875) loss: 1.840637\n",
      "(Iteration 341 / 1875) loss: 2.072893\n",
      "(Iteration 351 / 1875) loss: 1.632072\n",
      "(Iteration 361 / 1875) loss: 1.850646\n",
      "(Iteration 371 / 1875) loss: 2.077753\n",
      "(Epoch 3 / 15) train acc: 0.355000; val_acc: 0.274000\n",
      "(Iteration 381 / 1875) loss: 1.656320\n",
      "(Iteration 391 / 1875) loss: 1.913976\n",
      "(Iteration 401 / 1875) loss: 1.872247\n",
      "(Iteration 411 / 1875) loss: 1.708219\n",
      "(Iteration 421 / 1875) loss: 1.550100\n",
      "(Iteration 431 / 1875) loss: 1.536478\n",
      "(Iteration 441 / 1875) loss: 1.977617\n",
      "(Iteration 451 / 1875) loss: 1.800327\n",
      "(Iteration 461 / 1875) loss: 1.734902\n",
      "(Iteration 471 / 1875) loss: 1.673156\n",
      "(Iteration 481 / 1875) loss: 1.728706\n",
      "(Iteration 491 / 1875) loss: 1.713828\n",
      "(Epoch 4 / 15) train acc: 0.360000; val_acc: 0.287000\n",
      "(Iteration 501 / 1875) loss: 1.830359\n",
      "(Iteration 511 / 1875) loss: 1.865932\n",
      "(Iteration 521 / 1875) loss: 2.165131\n",
      "(Iteration 531 / 1875) loss: 1.555944\n",
      "(Iteration 541 / 1875) loss: 1.693239\n",
      "(Iteration 551 / 1875) loss: 1.513398\n",
      "(Iteration 561 / 1875) loss: 1.776965\n",
      "(Iteration 571 / 1875) loss: 1.512679\n",
      "(Iteration 581 / 1875) loss: 1.492718\n",
      "(Iteration 591 / 1875) loss: 1.605079\n",
      "(Iteration 601 / 1875) loss: 1.744774\n",
      "(Iteration 611 / 1875) loss: 2.028218\n",
      "(Iteration 621 / 1875) loss: 1.825340\n",
      "(Epoch 5 / 15) train acc: 0.371000; val_acc: 0.296000\n",
      "(Iteration 631 / 1875) loss: 2.090014\n",
      "(Iteration 641 / 1875) loss: 1.697579\n",
      "(Iteration 651 / 1875) loss: 1.669089\n",
      "(Iteration 661 / 1875) loss: 1.693822\n",
      "(Iteration 671 / 1875) loss: 1.754870\n",
      "(Iteration 681 / 1875) loss: 1.872609\n",
      "(Iteration 691 / 1875) loss: 1.794533\n",
      "(Iteration 701 / 1875) loss: 2.084138\n",
      "(Iteration 711 / 1875) loss: 1.728608\n",
      "(Iteration 721 / 1875) loss: 1.620589\n",
      "(Iteration 731 / 1875) loss: 1.367352\n",
      "(Iteration 741 / 1875) loss: 1.923189\n",
      "(Epoch 6 / 15) train acc: 0.417000; val_acc: 0.314000\n",
      "(Iteration 751 / 1875) loss: 1.481463\n",
      "(Iteration 761 / 1875) loss: 1.214077\n",
      "(Iteration 771 / 1875) loss: 1.695037\n",
      "(Iteration 781 / 1875) loss: 2.032674\n",
      "(Iteration 791 / 1875) loss: 1.833706\n",
      "(Iteration 801 / 1875) loss: 1.667285\n",
      "(Iteration 811 / 1875) loss: 1.497897\n",
      "(Iteration 821 / 1875) loss: 1.423395\n",
      "(Iteration 831 / 1875) loss: 1.489549\n",
      "(Iteration 841 / 1875) loss: 1.635664\n",
      "(Iteration 851 / 1875) loss: 1.873018\n",
      "(Iteration 861 / 1875) loss: 1.872690\n",
      "(Iteration 871 / 1875) loss: 1.551291\n",
      "(Epoch 7 / 15) train acc: 0.436000; val_acc: 0.312000\n",
      "(Iteration 881 / 1875) loss: 1.592542\n",
      "(Iteration 891 / 1875) loss: 1.657113\n",
      "(Iteration 901 / 1875) loss: 1.392171\n",
      "(Iteration 911 / 1875) loss: 1.526061\n",
      "(Iteration 921 / 1875) loss: 1.952498\n",
      "(Iteration 931 / 1875) loss: 1.430400\n",
      "(Iteration 941 / 1875) loss: 1.508233\n",
      "(Iteration 951 / 1875) loss: 1.861357\n",
      "(Iteration 961 / 1875) loss: 1.577278\n",
      "(Iteration 971 / 1875) loss: 1.662285\n",
      "(Iteration 981 / 1875) loss: 1.639864\n",
      "(Iteration 991 / 1875) loss: 1.678373\n",
      "(Epoch 8 / 15) train acc: 0.431000; val_acc: 0.322000\n",
      "(Iteration 1001 / 1875) loss: 1.491437\n",
      "(Iteration 1011 / 1875) loss: 1.460254\n",
      "(Iteration 1021 / 1875) loss: 1.492084\n",
      "(Iteration 1031 / 1875) loss: 1.710558\n",
      "(Iteration 1041 / 1875) loss: 1.715590\n",
      "(Iteration 1051 / 1875) loss: 1.498707\n",
      "(Iteration 1061 / 1875) loss: 1.872473\n",
      "(Iteration 1071 / 1875) loss: 1.582055\n",
      "(Iteration 1081 / 1875) loss: 1.423561\n",
      "(Iteration 1091 / 1875) loss: 1.720299\n",
      "(Iteration 1101 / 1875) loss: 1.737090\n",
      "(Iteration 1111 / 1875) loss: 1.394389\n",
      "(Iteration 1121 / 1875) loss: 1.399691\n",
      "(Epoch 9 / 15) train acc: 0.469000; val_acc: 0.317000\n",
      "(Iteration 1131 / 1875) loss: 1.410493\n",
      "(Iteration 1141 / 1875) loss: 1.749563\n",
      "(Iteration 1151 / 1875) loss: 1.359902\n",
      "(Iteration 1161 / 1875) loss: 1.417604\n",
      "(Iteration 1171 / 1875) loss: 1.518568\n",
      "(Iteration 1181 / 1875) loss: 1.734848\n",
      "(Iteration 1191 / 1875) loss: 1.437139\n",
      "(Iteration 1201 / 1875) loss: 1.266679\n",
      "(Iteration 1211 / 1875) loss: 1.409384\n",
      "(Iteration 1221 / 1875) loss: 1.478392\n",
      "(Iteration 1231 / 1875) loss: 1.530125\n",
      "(Iteration 1241 / 1875) loss: 1.325375\n",
      "(Epoch 10 / 15) train acc: 0.457000; val_acc: 0.301000\n",
      "(Iteration 1251 / 1875) loss: 1.879296\n",
      "(Iteration 1261 / 1875) loss: 1.660671\n",
      "(Iteration 1271 / 1875) loss: 1.764173\n",
      "(Iteration 1281 / 1875) loss: 1.152796\n",
      "(Iteration 1291 / 1875) loss: 1.378131\n",
      "(Iteration 1301 / 1875) loss: 1.292526\n",
      "(Iteration 1311 / 1875) loss: 1.606115\n",
      "(Iteration 1321 / 1875) loss: 1.402314\n",
      "(Iteration 1331 / 1875) loss: 1.500292\n",
      "(Iteration 1341 / 1875) loss: 1.389462\n",
      "(Iteration 1351 / 1875) loss: 1.593995\n",
      "(Iteration 1361 / 1875) loss: 1.272813\n",
      "(Iteration 1371 / 1875) loss: 1.334717\n",
      "(Epoch 11 / 15) train acc: 0.509000; val_acc: 0.333000\n",
      "(Iteration 1381 / 1875) loss: 1.226282\n",
      "(Iteration 1391 / 1875) loss: 1.396549\n",
      "(Iteration 1401 / 1875) loss: 1.772975\n",
      "(Iteration 1411 / 1875) loss: 1.435060\n",
      "(Iteration 1421 / 1875) loss: 1.366799\n",
      "(Iteration 1431 / 1875) loss: 1.375646\n",
      "(Iteration 1441 / 1875) loss: 1.618859\n",
      "(Iteration 1451 / 1875) loss: 1.529244\n",
      "(Iteration 1461 / 1875) loss: 1.244970\n",
      "(Iteration 1471 / 1875) loss: 1.316037\n",
      "(Iteration 1481 / 1875) loss: 1.769572\n",
      "(Iteration 1491 / 1875) loss: 1.294003\n",
      "(Epoch 12 / 15) train acc: 0.523000; val_acc: 0.315000\n",
      "(Iteration 1501 / 1875) loss: 1.614447\n",
      "(Iteration 1511 / 1875) loss: 1.491344\n",
      "(Iteration 1521 / 1875) loss: 1.581826\n",
      "(Iteration 1531 / 1875) loss: 1.293308\n",
      "(Iteration 1541 / 1875) loss: 1.629395\n",
      "(Iteration 1551 / 1875) loss: 1.837537\n",
      "(Iteration 1561 / 1875) loss: 1.239837\n",
      "(Iteration 1571 / 1875) loss: 1.210088\n",
      "(Iteration 1581 / 1875) loss: 1.442954\n",
      "(Iteration 1591 / 1875) loss: 1.504629\n",
      "(Iteration 1601 / 1875) loss: 1.220285\n",
      "(Iteration 1611 / 1875) loss: 1.138213\n",
      "(Iteration 1621 / 1875) loss: 1.414668\n",
      "(Epoch 13 / 15) train acc: 0.515000; val_acc: 0.319000\n",
      "(Iteration 1631 / 1875) loss: 1.286310\n",
      "(Iteration 1641 / 1875) loss: 1.395936\n",
      "(Iteration 1651 / 1875) loss: 1.415277\n",
      "(Iteration 1661 / 1875) loss: 1.209035\n",
      "(Iteration 1671 / 1875) loss: 1.533219\n",
      "(Iteration 1681 / 1875) loss: 1.510401\n",
      "(Iteration 1691 / 1875) loss: 1.150427\n",
      "(Iteration 1701 / 1875) loss: 1.316250\n",
      "(Iteration 1711 / 1875) loss: 1.284517\n",
      "(Iteration 1721 / 1875) loss: 1.439172\n",
      "(Iteration 1731 / 1875) loss: 1.362624\n",
      "(Iteration 1741 / 1875) loss: 1.263742\n",
      "(Epoch 14 / 15) train acc: 0.554000; val_acc: 0.331000\n",
      "(Iteration 1751 / 1875) loss: 1.197696\n",
      "(Iteration 1761 / 1875) loss: 1.384815\n",
      "(Iteration 1771 / 1875) loss: 1.290874\n",
      "(Iteration 1781 / 1875) loss: 1.209556\n",
      "(Iteration 1791 / 1875) loss: 1.384954\n",
      "(Iteration 1801 / 1875) loss: 1.527654\n",
      "(Iteration 1811 / 1875) loss: 1.342952\n",
      "(Iteration 1821 / 1875) loss: 1.205060\n",
      "(Iteration 1831 / 1875) loss: 0.919943\n",
      "(Iteration 1841 / 1875) loss: 1.566461\n",
      "(Iteration 1851 / 1875) loss: 1.407991\n",
      "(Iteration 1861 / 1875) loss: 1.355593\n",
      "(Iteration 1871 / 1875) loss: 1.147229\n",
      "(Epoch 15 / 15) train acc: 0.543000; val_acc: 0.322000\n",
      "\n"
     ]
    },
    {
     "name": "stderr",
     "output_type": "stream",
     "text": [
      "/home/shared/anaconda3/lib/python3.6/site-packages/matplotlib/cbook/deprecation.py:106: MatplotlibDeprecationWarning: Adding an axes using the same arguments as a previous axes currently reuses the earlier instance.  In a future version, a new instance will always be created and returned.  Meanwhile, this warning can be suppressed, and the future behavior ensured, by passing a unique label to each axes instance.\n",
      "  warnings.warn(message, mplDeprecation, stacklevel=1)\n"
     ]
    },
    {
     "data": {
      "image/png": "[encoded data removed]",
      "text/plain": [
       "<matplotlib.figure.Figure at 0x7f5ef138a940>"
      ]
     },
     "metadata": {},
     "output_type": "display_data"
    }
   ],
   "source": [
    "num_train = 4000\n",
    "small_data = {\n",
    "  'X_train': data['X_train'][:num_train],\n",
    "  'y_train': data['y_train'][:num_train],\n",
    "  'X_val': data['X_val'],\n",
    "  'y_val': data['y_val'],\n",
    "}\n",
    "\n",
    "solvers = {}\n",
    "\n",
    "for update_rule in ['sgd', 'sgd_momentum']:\n",
    "  print('running with ', update_rule)\n",
    "  model = FullyConnectedNet([100, 100, 100, 100, 100], weight_scale=5e-2)\n",
    "\n",
    "  solver = Solver(model, small_data,\n",
    "                  num_epochs=15, batch_size=32,\n",
    "                  update_rule=update_rule,\n",
    "                  optim_config={\n",
    "                    'learning_rate': 1e-4,\n",
    "                  },\n",
    "                  verbose=True)\n",
    "  solvers[update_rule] = solver\n",
    "  solver.train()\n",
    "  print()\n",
    "\n",
    "plt.subplot(3, 1, 1)\n",
    "plt.title('Training loss')\n",
    "plt.xlabel('Iteration')\n",
    "\n",
    "plt.subplot(3, 1, 2)\n",
    "plt.title('Training accuracy')\n",
    "plt.xlabel('Epoch')\n",
    "\n",
    "plt.subplot(3, 1, 3)\n",
    "plt.title('Validation accuracy')\n",
    "plt.xlabel('Epoch')\n",
    "\n",
    "for update_rule, solver in list(solvers.items()):\n",
    "  plt.subplot(3, 1, 1)\n",
    "  plt.plot(solver.loss_history, 'o', label=update_rule)\n",
    "  \n",
    "  plt.subplot(3, 1, 2)\n",
    "  plt.plot(solver.train_acc_history, '-o', label=update_rule)\n",
    "\n",
    "  plt.subplot(3, 1, 3)\n",
    "  plt.plot(solver.val_acc_history, '-o', label=update_rule)\n",
    "  \n",
    "for i in [1, 2, 3]:\n",
    "  plt.subplot(3, 1, i)\n",
    "  plt.legend(loc='upper center', ncol=4)\n",
    "plt.gcf().set_size_inches(15, 15)\n",
    "plt.show()"
   ]
  },
  {
   "cell_type": "markdown",
   "metadata": {},
   "source": [
    "# RMSProp and Adam\n",
    "RMSProp [1] and Adam [2] are update rules that set per-parameter learning rates by using a running average of the second moments of gradients.\n",
    "\n",
    "In the file `cs231n/optim.py`, implement the RMSProp update rule in the `rmsprop` function and implement the Adam update rule in the `adam` function, and check your implementations using the tests below.\n",
    "\n",
    "**NOTE:** Please implement the _complete_ Adam update rule (with the bias correction mechanism), not the first simplified version mentioned in the course notes. \n",
    "\n",
    "[1] Tijmen Tieleman and Geoffrey Hinton. \"Lecture 6.5-rmsprop: Divide the gradient by a running average of its recent magnitude.\" COURSERA: Neural Networks for Machine Learning 4 (2012).\n",
    "\n",
    "[2] Diederik Kingma and Jimmy Ba, \"Adam: A Method for Stochastic Optimization\", ICLR 2015."
   ]
  },
  {
   "cell_type": "code",
   "execution_count": 17,
   "metadata": {
    "ExecuteTime": {
     "end_time": "2018-07-20T05:15:57.230817Z",
     "start_time": "2018-07-20T05:15:57.195536Z"
    }
   },
   "outputs": [
    {
     "name": "stdout",
     "output_type": "stream",
     "text": [
      "next_w error:  9.524687511038133e-08\n",
      "cache error:  2.6477955807156126e-09\n"
     ]
    }
   ],
   "source": [
    "# Test RMSProp implementation\n",
    "from cs231n.optim import rmsprop\n",
    "\n",
    "N, D = 4, 5\n",
    "w = np.linspace(-0.4, 0.6, num=N*D).reshape(N, D)\n",
    "dw = np.linspace(-0.6, 0.4, num=N*D).reshape(N, D)\n",
    "cache = np.linspace(0.6, 0.9, num=N*D).reshape(N, D)\n",
    "\n",
    "config = {'learning_rate': 1e-2, 'cache': cache}\n",
    "next_w, _ = rmsprop(w, dw, config=config)\n",
    "\n",
    "expected_next_w = np.asarray([\n",
    "  [-0.39223849, -0.34037513, -0.28849239, -0.23659121, -0.18467247],\n",
    "  [-0.132737,   -0.08078555, -0.02881884,  0.02316247,  0.07515774],\n",
    "  [ 0.12716641,  0.17918792,  0.23122175,  0.28326742,  0.33532447],\n",
    "  [ 0.38739248,  0.43947102,  0.49155973,  0.54365823,  0.59576619]])\n",
    "expected_cache = np.asarray([\n",
    "  [ 0.5976,      0.6126277,   0.6277108,   0.64284931,  0.65804321],\n",
    "  [ 0.67329252,  0.68859723,  0.70395734,  0.71937285,  0.73484377],\n",
    "  [ 0.75037008,  0.7659518,   0.78158892,  0.79728144,  0.81302936],\n",
    "  [ 0.82883269,  0.84469141,  0.86060554,  0.87657507,  0.8926    ]])\n",
    "\n",
    "# You should see relative errors around e-7 or less\n",
    "print('next_w error: ', rel_error(expected_next_w, next_w))\n",
    "print('cache error: ', rel_error(expected_cache, config['cache']))"
   ]
  },
  {
   "cell_type": "code",
   "execution_count": 18,
   "metadata": {
    "ExecuteTime": {
     "end_time": "2018-07-20T05:15:57.278722Z",
     "start_time": "2018-07-20T05:15:57.232862Z"
    }
   },
   "outputs": [
    {
     "name": "stdout",
     "output_type": "stream",
     "text": [
      "next_w error:  1.1395691798535431e-07\n",
      "v error:  4.208314038113071e-09\n",
      "m error:  4.214963193114416e-09\n"
     ]
    }
   ],
   "source": [
    "# Test Adam implementation\n",
    "from cs231n.optim import adam\n",
    "\n",
    "N, D = 4, 5\n",
    "w = np.linspace(-0.4, 0.6, num=N*D).reshape(N, D)\n",
    "dw = np.linspace(-0.6, 0.4, num=N*D).reshape(N, D)\n",
    "m = np.linspace(0.6, 0.9, num=N*D).reshape(N, D)\n",
    "v = np.linspace(0.7, 0.5, num=N*D).reshape(N, D)\n",
    "\n",
    "config = {'learning_rate': 1e-2, 'm': m, 'v': v, 't': 5}\n",
    "next_w, _ = adam(w, dw, config=config)\n",
    "\n",
    "expected_next_w = np.asarray([\n",
    "  [-0.40094747, -0.34836187, -0.29577703, -0.24319299, -0.19060977],\n",
    "  [-0.1380274,  -0.08544591, -0.03286534,  0.01971428,  0.0722929],\n",
    "  [ 0.1248705,   0.17744702,  0.23002243,  0.28259667,  0.33516969],\n",
    "  [ 0.38774145,  0.44031188,  0.49288093,  0.54544852,  0.59801459]])\n",
    "expected_v = np.asarray([\n",
    "  [ 0.69966,     0.68908382,  0.67851319,  0.66794809,  0.65738853,],\n",
    "  [ 0.64683452,  0.63628604,  0.6257431,   0.61520571,  0.60467385,],\n",
    "  [ 0.59414753,  0.58362676,  0.57311152,  0.56260183,  0.55209767,],\n",
    "  [ 0.54159906,  0.53110598,  0.52061845,  0.51013645,  0.49966,   ]])\n",
    "expected_m = np.asarray([\n",
    "  [ 0.48,        0.49947368,  0.51894737,  0.53842105,  0.55789474],\n",
    "  [ 0.57736842,  0.59684211,  0.61631579,  0.63578947,  0.65526316],\n",
    "  [ 0.67473684,  0.69421053,  0.71368421,  0.73315789,  0.75263158],\n",
    "  [ 0.77210526,  0.79157895,  0.81105263,  0.83052632,  0.85      ]])\n",
    "\n",
    "# You should see relative errors around e-7 or less\n",
    "print('next_w error: ', rel_error(expected_next_w, next_w))\n",
    "print('v error: ', rel_error(expected_v, config['v']))\n",
    "print('m error: ', rel_error(expected_m, config['m']))"
   ]
  },
  {
   "cell_type": "markdown",
   "metadata": {},
   "source": [
    "Once you have debugged your RMSProp and Adam implementations, run the following to train a pair of deep networks using these new update rules:"
   ]
  },
  {
   "cell_type": "code",
   "execution_count": 19,
   "metadata": {
    "ExecuteTime": {
     "end_time": "2018-07-20T05:16:06.144176Z",
     "start_time": "2018-07-20T05:15:57.280613Z"
    }
   },
   "outputs": [
    {
     "name": "stdout",
     "output_type": "stream",
     "text": [
      "running with  adam\n",
      "(Iteration 1 / 200) loss: 8.580806\n",
      "(Epoch 0 / 5) train acc: 0.106000; val_acc: 0.099000\n",
      "(Iteration 11 / 200) loss: 2.654558\n",
      "(Iteration 21 / 200) loss: 2.307580\n",
      "(Iteration 31 / 200) loss: 1.854664\n",
      "(Epoch 1 / 5) train acc: 0.387000; val_acc: 0.323000\n",
      "(Iteration 41 / 200) loss: 1.854399\n",
      "(Iteration 51 / 200) loss: 1.711852\n",
      "(Iteration 61 / 200) loss: 1.552828\n",
      "(Iteration 71 / 200) loss: 1.440472\n",
      "(Epoch 2 / 5) train acc: 0.468000; val_acc: 0.336000\n",
      "(Iteration 81 / 200) loss: 1.835676\n",
      "(Iteration 91 / 200) loss: 1.438143\n",
      "(Iteration 101 / 200) loss: 1.540769\n",
      "(Iteration 111 / 200) loss: 1.506190\n",
      "(Epoch 3 / 5) train acc: 0.530000; val_acc: 0.357000\n",
      "(Iteration 121 / 200) loss: 1.322109\n",
      "(Iteration 131 / 200) loss: 1.319151\n",
      "(Iteration 141 / 200) loss: 1.218804\n",
      "(Iteration 151 / 200) loss: 1.284749\n",
      "(Epoch 4 / 5) train acc: 0.555000; val_acc: 0.341000\n",
      "(Iteration 161 / 200) loss: 1.293102\n",
      "(Iteration 171 / 200) loss: 1.075915\n",
      "(Iteration 181 / 200) loss: 1.368975\n",
      "(Iteration 191 / 200) loss: 1.110348\n",
      "(Epoch 5 / 5) train acc: 0.627000; val_acc: 0.389000\n",
      "\n",
      "running with  rmsprop\n",
      "(Iteration 1 / 200) loss: 9.011489\n",
      "(Epoch 0 / 5) train acc: 0.024000; val_acc: 0.028000\n",
      "(Iteration 11 / 200) loss: 2.786230\n",
      "(Iteration 21 / 200) loss: 2.350076\n",
      "(Iteration 31 / 200) loss: 2.322436\n",
      "(Epoch 1 / 5) train acc: 0.346000; val_acc: 0.289000\n",
      "(Iteration 41 / 200) loss: 1.957137\n",
      "(Iteration 51 / 200) loss: 1.851043\n",
      "(Iteration 61 / 200) loss: 1.859603\n",
      "(Iteration 71 / 200) loss: 1.741618\n",
      "(Epoch 2 / 5) train acc: 0.408000; val_acc: 0.301000\n",
      "(Iteration 81 / 200) loss: 1.744740\n",
      "(Iteration 91 / 200) loss: 1.703809\n",
      "(Iteration 101 / 200) loss: 1.572081\n",
      "(Iteration 111 / 200) loss: 1.597490\n",
      "(Epoch 3 / 5) train acc: 0.476000; val_acc: 0.329000\n",
      "(Iteration 121 / 200) loss: 1.587039\n",
      "(Iteration 131 / 200) loss: 1.625812\n",
      "(Iteration 141 / 200) loss: 1.324976\n",
      "(Iteration 151 / 200) loss: 1.433557\n",
      "(Epoch 4 / 5) train acc: 0.504000; val_acc: 0.332000\n",
      "(Iteration 161 / 200) loss: 1.421149\n",
      "(Iteration 171 / 200) loss: 1.352164\n",
      "(Iteration 181 / 200) loss: 1.424380\n",
      "(Iteration 191 / 200) loss: 1.335874\n",
      "(Epoch 5 / 5) train acc: 0.526000; val_acc: 0.341000\n",
      "\n"
     ]
    },
    {
     "name": "stderr",
     "output_type": "stream",
     "text": [
      "/home/shared/anaconda3/lib/python3.6/site-packages/matplotlib/cbook/deprecation.py:106: MatplotlibDeprecationWarning: Adding an axes using the same arguments as a previous axes currently reuses the earlier instance.  In a future version, a new instance will always be created and returned.  Meanwhile, this warning can be suppressed, and the future behavior ensured, by passing a unique label to each axes instance.\n",
      "  warnings.warn(message, mplDeprecation, stacklevel=1)\n"
     ]
    },
    {
     "data": {
      "image/png": "[encoded data removed]",
      "text/plain": [
       "<matplotlib.figure.Figure at 0x7f5ef142bb38>"
      ]
     },
     "metadata": {},
     "output_type": "display_data"
    }
   ],
   "source": [
    "learning_rates = {'rmsprop': 1e-4, 'adam': 1e-3}\n",
    "for update_rule in ['adam', 'rmsprop']:\n",
    "  print('running with ', update_rule)\n",
    "  model = FullyConnectedNet([100, 100, 100, 100, 100], weight_scale=5e-2)\n",
    "\n",
    "  solver = Solver(model, small_data,\n",
    "                  num_epochs=5, batch_size=100,\n",
    "                  update_rule=update_rule,\n",
    "                  optim_config={\n",
    "                    'learning_rate': learning_rates[update_rule]\n",
    "                  },\n",
    "                  verbose=True)\n",
    "  solvers[update_rule] = solver\n",
    "  solver.train()\n",
    "  print()\n",
    "\n",
    "plt.subplot(3, 1, 1)\n",
    "plt.title('Training loss')\n",
    "plt.xlabel('Iteration')\n",
    "\n",
    "plt.subplot(3, 1, 2)\n",
    "plt.title('Training accuracy')\n",
    "plt.xlabel('Epoch')\n",
    "\n",
    "plt.subplot(3, 1, 3)\n",
    "plt.title('Validation accuracy')\n",
    "plt.xlabel('Epoch')\n",
    "\n",
    "for update_rule, solver in list(solvers.items()):\n",
    "  plt.subplot(3, 1, 1)\n",
    "  plt.plot(solver.loss_history, 'o', label=update_rule)\n",
    "  \n",
    "  plt.subplot(3, 1, 2)\n",
    "  plt.plot(solver.train_acc_history, '-o', label=update_rule)\n",
    "\n",
    "  plt.subplot(3, 1, 3)\n",
    "  plt.plot(solver.val_acc_history, '-o', label=update_rule)\n",
    "  \n",
    "for i in [1, 2, 3]:\n",
    "  plt.subplot(3, 1, i)\n",
    "  plt.legend(loc='upper center', ncol=4)\n",
    "plt.gcf().set_size_inches(15, 15)\n",
    "plt.show()"
   ]
  },
  {
   "cell_type": "markdown",
   "metadata": {},
   "source": [
    "## Inline Question 3:\n",
    "\n",
    "AdaGrad, like Adam, is a per-parameter optimization method that uses the following update rule:\n",
    "\n",
    "```\n",
    "cache += dw**2\n",
    "w += - learning_rate * dw / (np.sqrt(cache) + eps)\n",
    "```\n",
    "\n",
    "John notices that when he was training a network with AdaGrad that the updates became very small, and that his network was learning slowly. Using your knowledge of the AdaGrad update rule, why do you think the updates would become very small? Would Adam have the same issue?\n"
   ]
  },
  {
   "cell_type": "markdown",
   "metadata": {},
   "source": [
    "## Answer: \n"
   ]
  },
  {
   "cell_type": "markdown",
   "metadata": {},
   "source": [
    "# Train a good model!\n",
    "Train the best fully-connected model that you can on CIFAR-10, storing your best model in the `best_model` variable. We require you to get at least 50% accuracy on the validation set using a fully-connected net.\n",
    "\n",
    "If you are careful it should be possible to get accuracies above 55%, but we don't require it for this part and won't assign extra credit for doing so. Later in the assignment we will ask you to train the best convolutional network that you can on CIFAR-10, and we would prefer that you spend your effort working on convolutional nets rather than fully-connected nets.\n",
    "\n",
    "You might find it useful to complete the `BatchNormalization.ipynb` and `Dropout.ipynb` notebooks before completing this part, since those techniques can help you train powerful models."
   ]
  },
  {
   "cell_type": "code",
   "execution_count": 26,
   "metadata": {
    "ExecuteTime": {
     "end_time": "2018-07-20T07:17:48.047161Z",
     "start_time": "2018-07-20T05:36:06.568625Z"
    },
    "scrolled": false
   },
   "outputs": [
    {
     "name": "stdout",
     "output_type": "stream",
     "text": [
      "(Iteration 1 / 21010) loss: 6.238676\n",
      "(Epoch 0 / 55) train acc: 0.013000; val_acc: 0.014000\n",
      "(Iteration 101 / 21010) loss: 2.763702\n",
      "(Iteration 201 / 21010) loss: 2.027243\n",
      "(Iteration 301 / 21010) loss: 1.972083\n",
      "(Epoch 1 / 55) train acc: 0.260000; val_acc: 0.284000\n",
      "(Iteration 401 / 21010) loss: 1.850486\n",
      "(Iteration 501 / 21010) loss: 1.819366\n",
      "(Iteration 601 / 21010) loss: 1.797164\n",
      "(Iteration 701 / 21010) loss: 1.868757\n",
      "(Epoch 2 / 55) train acc: 0.346000; val_acc: 0.357000\n",
      "(Iteration 801 / 21010) loss: 1.797454\n",
      "(Iteration 901 / 21010) loss: 1.589406\n",
      "(Iteration 1001 / 21010) loss: 1.749033\n",
      "(Iteration 1101 / 21010) loss: 1.793343\n",
      "(Epoch 3 / 55) train acc: 0.388000; val_acc: 0.416000\n",
      "(Iteration 1201 / 21010) loss: 1.717971\n",
      "(Iteration 1301 / 21010) loss: 1.575014\n",
      "(Iteration 1401 / 21010) loss: 1.702861\n",
      "(Iteration 1501 / 21010) loss: 1.580257\n",
      "(Epoch 4 / 55) train acc: 0.439000; val_acc: 0.451000\n",
      "(Iteration 1601 / 21010) loss: 1.669369\n",
      "(Iteration 1701 / 21010) loss: 1.653025\n",
      "(Iteration 1801 / 21010) loss: 1.769050\n",
      "(Iteration 1901 / 21010) loss: 1.479804\n",
      "(Epoch 5 / 55) train acc: 0.482000; val_acc: 0.475000\n",
      "(Iteration 2001 / 21010) loss: 1.479507\n",
      "(Iteration 2101 / 21010) loss: 1.579485\n",
      "(Iteration 2201 / 21010) loss: 1.554110\n",
      "(Epoch 6 / 55) train acc: 0.506000; val_acc: 0.497000\n",
      "(Iteration 2301 / 21010) loss: 1.593797\n",
      "(Iteration 2401 / 21010) loss: 1.709122\n",
      "(Iteration 2501 / 21010) loss: 1.584938\n",
      "(Iteration 2601 / 21010) loss: 1.421175\n",
      "(Epoch 7 / 55) train acc: 0.513000; val_acc: 0.500000\n",
      "(Iteration 2701 / 21010) loss: 1.431613\n",
      "(Iteration 2801 / 21010) loss: 1.522325\n",
      "(Iteration 2901 / 21010) loss: 1.602163\n",
      "(Iteration 3001 / 21010) loss: 1.550776\n",
      "(Epoch 8 / 55) train acc: 0.533000; val_acc: 0.508000\n",
      "(Iteration 3101 / 21010) loss: 1.426423\n",
      "(Iteration 3201 / 21010) loss: 1.431976\n",
      "(Iteration 3301 / 21010) loss: 1.586184\n",
      "(Iteration 3401 / 21010) loss: 1.569103\n",
      "(Epoch 9 / 55) train acc: 0.542000; val_acc: 0.513000\n",
      "(Iteration 3501 / 21010) loss: 1.542482\n",
      "(Iteration 3601 / 21010) loss: 1.497606\n",
      "(Iteration 3701 / 21010) loss: 1.417484\n",
      "(Iteration 3801 / 21010) loss: 1.520628\n",
      "(Epoch 10 / 55) train acc: 0.559000; val_acc: 0.518000\n",
      "(Iteration 3901 / 21010) loss: 1.482121\n",
      "(Iteration 4001 / 21010) loss: 1.565091\n",
      "(Iteration 4101 / 21010) loss: 1.554473\n",
      "(Iteration 4201 / 21010) loss: 1.500775\n",
      "(Epoch 11 / 55) train acc: 0.546000; val_acc: 0.530000\n",
      "(Iteration 4301 / 21010) loss: 1.489540\n",
      "(Iteration 4401 / 21010) loss: 1.330464\n",
      "(Iteration 4501 / 21010) loss: 1.516579\n",
      "(Epoch 12 / 55) train acc: 0.559000; val_acc: 0.529000\n",
      "(Iteration 4601 / 21010) loss: 1.462171\n",
      "(Iteration 4701 / 21010) loss: 1.599140\n",
      "(Iteration 4801 / 21010) loss: 1.230503\n",
      "(Iteration 4901 / 21010) loss: 1.410006\n",
      "(Epoch 13 / 55) train acc: 0.585000; val_acc: 0.527000\n",
      "(Iteration 5001 / 21010) loss: 1.451425\n",
      "(Iteration 5101 / 21010) loss: 1.330501\n",
      "(Iteration 5201 / 21010) loss: 1.294558\n",
      "(Iteration 5301 / 21010) loss: 1.242095\n",
      "(Epoch 14 / 55) train acc: 0.571000; val_acc: 0.521000\n",
      "(Iteration 5401 / 21010) loss: 1.374140\n",
      "(Iteration 5501 / 21010) loss: 1.208169\n",
      "(Iteration 5601 / 21010) loss: 1.356617\n",
      "(Iteration 5701 / 21010) loss: 1.445115\n",
      "(Epoch 15 / 55) train acc: 0.575000; val_acc: 0.541000\n",
      "(Iteration 5801 / 21010) loss: 1.331373\n",
      "(Iteration 5901 / 21010) loss: 1.345794\n",
      "(Iteration 6001 / 21010) loss: 1.421209\n",
      "(Iteration 6101 / 21010) loss: 1.347432\n",
      "(Epoch 16 / 55) train acc: 0.598000; val_acc: 0.539000\n",
      "(Iteration 6201 / 21010) loss: 1.394247\n",
      "(Iteration 6301 / 21010) loss: 1.155534\n",
      "(Iteration 6401 / 21010) loss: 1.301493\n",
      "(Epoch 17 / 55) train acc: 0.596000; val_acc: 0.538000\n",
      "(Iteration 6501 / 21010) loss: 1.246747\n",
      "(Iteration 6601 / 21010) loss: 1.387311\n",
      "(Iteration 6701 / 21010) loss: 1.148129\n",
      "(Iteration 6801 / 21010) loss: 1.345460\n",
      "(Epoch 18 / 55) train acc: 0.606000; val_acc: 0.537000\n",
      "(Iteration 6901 / 21010) loss: 1.488833\n",
      "(Iteration 7001 / 21010) loss: 1.264257\n",
      "(Iteration 7101 / 21010) loss: 1.285933\n",
      "(Iteration 7201 / 21010) loss: 1.630977\n",
      "(Epoch 19 / 55) train acc: 0.600000; val_acc: 0.528000\n",
      "(Iteration 7301 / 21010) loss: 1.332641\n",
      "(Iteration 7401 / 21010) loss: 1.208395\n",
      "(Iteration 7501 / 21010) loss: 1.527272\n",
      "(Iteration 7601 / 21010) loss: 1.353106\n",
      "(Epoch 20 / 55) train acc: 0.612000; val_acc: 0.537000\n",
      "(Iteration 7701 / 21010) loss: 1.309184\n",
      "(Iteration 7801 / 21010) loss: 1.446004\n",
      "(Iteration 7901 / 21010) loss: 1.330509\n",
      "(Iteration 8001 / 21010) loss: 1.374321\n",
      "(Epoch 21 / 55) train acc: 0.604000; val_acc: 0.540000\n",
      "(Iteration 8101 / 21010) loss: 1.360219\n",
      "(Iteration 8201 / 21010) loss: 1.283870\n",
      "(Iteration 8301 / 21010) loss: 1.319544\n",
      "(Iteration 8401 / 21010) loss: 1.074836\n",
      "(Epoch 22 / 55) train acc: 0.602000; val_acc: 0.531000\n",
      "(Iteration 8501 / 21010) loss: 1.349160\n",
      "(Iteration 8601 / 21010) loss: 1.236932\n",
      "(Iteration 8701 / 21010) loss: 1.233248\n",
      "(Epoch 23 / 55) train acc: 0.639000; val_acc: 0.556000\n",
      "(Iteration 8801 / 21010) loss: 1.225028\n",
      "(Iteration 8901 / 21010) loss: 1.505196\n",
      "(Iteration 9001 / 21010) loss: 1.305037\n",
      "(Iteration 9101 / 21010) loss: 1.231334\n",
      "(Epoch 24 / 55) train acc: 0.643000; val_acc: 0.533000\n",
      "(Iteration 9201 / 21010) loss: 1.308086\n",
      "(Iteration 9301 / 21010) loss: 1.228065\n",
      "(Iteration 9401 / 21010) loss: 1.343216\n",
      "(Iteration 9501 / 21010) loss: 1.132119\n",
      "(Epoch 25 / 55) train acc: 0.640000; val_acc: 0.542000\n",
      "(Iteration 9601 / 21010) loss: 1.325832\n",
      "(Iteration 9701 / 21010) loss: 1.304989\n",
      "(Iteration 9801 / 21010) loss: 1.361039\n",
      "(Iteration 9901 / 21010) loss: 1.387135\n",
      "(Epoch 26 / 55) train acc: 0.622000; val_acc: 0.555000\n",
      "(Iteration 10001 / 21010) loss: 1.275286\n",
      "(Iteration 10101 / 21010) loss: 1.373416\n",
      "(Iteration 10201 / 21010) loss: 1.461980\n",
      "(Iteration 10301 / 21010) loss: 1.329891\n",
      "(Epoch 27 / 55) train acc: 0.639000; val_acc: 0.551000\n",
      "(Iteration 10401 / 21010) loss: 1.189601\n",
      "(Iteration 10501 / 21010) loss: 1.328587\n",
      "(Iteration 10601 / 21010) loss: 1.368400\n",
      "(Epoch 28 / 55) train acc: 0.630000; val_acc: 0.552000\n",
      "(Iteration 10701 / 21010) loss: 1.210924\n",
      "(Iteration 10801 / 21010) loss: 1.408359\n",
      "(Iteration 10901 / 21010) loss: 1.269806\n",
      "(Iteration 11001 / 21010) loss: 1.020309\n",
      "(Epoch 29 / 55) train acc: 0.662000; val_acc: 0.562000\n",
      "(Iteration 11101 / 21010) loss: 1.376419\n",
      "(Iteration 11201 / 21010) loss: 1.539918\n",
      "(Iteration 11301 / 21010) loss: 1.233358\n",
      "(Iteration 11401 / 21010) loss: 1.341317\n",
      "(Epoch 30 / 55) train acc: 0.646000; val_acc: 0.540000\n",
      "(Iteration 11501 / 21010) loss: 1.188375\n",
      "(Iteration 11601 / 21010) loss: 1.341357\n",
      "(Iteration 11701 / 21010) loss: 1.032569\n",
      "(Iteration 11801 / 21010) loss: 1.171915\n",
      "(Epoch 31 / 55) train acc: 0.674000; val_acc: 0.552000\n",
      "(Iteration 11901 / 21010) loss: 1.051470\n",
      "(Iteration 12001 / 21010) loss: 1.304767\n",
      "(Iteration 12101 / 21010) loss: 1.205835\n",
      "(Iteration 12201 / 21010) loss: 1.226252\n",
      "(Epoch 32 / 55) train acc: 0.653000; val_acc: 0.555000\n",
      "(Iteration 12301 / 21010) loss: 1.207562\n",
      "(Iteration 12401 / 21010) loss: 1.420685\n",
      "(Iteration 12501 / 21010) loss: 1.468973\n",
      "(Iteration 12601 / 21010) loss: 1.292999\n",
      "(Epoch 33 / 55) train acc: 0.672000; val_acc: 0.555000\n",
      "(Iteration 12701 / 21010) loss: 1.094136\n",
      "(Iteration 12801 / 21010) loss: 1.186112\n",
      "(Iteration 12901 / 21010) loss: 1.230637\n",
      "(Epoch 34 / 55) train acc: 0.688000; val_acc: 0.560000\n",
      "(Iteration 13001 / 21010) loss: 1.257872\n",
      "(Iteration 13101 / 21010) loss: 1.302363\n",
      "(Iteration 13201 / 21010) loss: 1.197767\n",
      "(Iteration 13301 / 21010) loss: 1.430186\n",
      "(Epoch 35 / 55) train acc: 0.675000; val_acc: 0.552000\n",
      "(Iteration 13401 / 21010) loss: 1.228557\n",
      "(Iteration 13501 / 21010) loss: 1.210865\n",
      "(Iteration 13601 / 21010) loss: 1.259522\n",
      "(Iteration 13701 / 21010) loss: 1.292551\n",
      "(Epoch 36 / 55) train acc: 0.708000; val_acc: 0.553000\n",
      "(Iteration 13801 / 21010) loss: 0.993933\n",
      "(Iteration 13901 / 21010) loss: 1.279257\n",
      "(Iteration 14001 / 21010) loss: 1.239341\n",
      "(Iteration 14101 / 21010) loss: 1.163741\n",
      "(Epoch 37 / 55) train acc: 0.662000; val_acc: 0.556000\n",
      "(Iteration 14201 / 21010) loss: 1.157650\n",
      "(Iteration 14301 / 21010) loss: 1.285949\n",
      "(Iteration 14401 / 21010) loss: 1.349339\n",
      "(Iteration 14501 / 21010) loss: 1.014713\n",
      "(Epoch 38 / 55) train acc: 0.667000; val_acc: 0.559000\n",
      "(Iteration 14601 / 21010) loss: 1.162237\n",
      "(Iteration 14701 / 21010) loss: 1.302476\n",
      "(Iteration 14801 / 21010) loss: 1.274999\n",
      "(Epoch 39 / 55) train acc: 0.670000; val_acc: 0.559000\n",
      "(Iteration 14901 / 21010) loss: 1.235258\n"
     ]
    },
    {
     "name": "stdout",
     "output_type": "stream",
     "text": [
      "(Iteration 15001 / 21010) loss: 1.088572\n",
      "(Iteration 15101 / 21010) loss: 1.211132\n",
      "(Iteration 15201 / 21010) loss: 1.191712\n",
      "(Epoch 40 / 55) train acc: 0.665000; val_acc: 0.562000\n",
      "(Iteration 15301 / 21010) loss: 1.277940\n",
      "(Iteration 15401 / 21010) loss: 1.077776\n",
      "(Iteration 15501 / 21010) loss: 1.188055\n",
      "(Iteration 15601 / 21010) loss: 1.196471\n",
      "(Epoch 41 / 55) train acc: 0.673000; val_acc: 0.549000\n",
      "(Iteration 15701 / 21010) loss: 1.250650\n",
      "(Iteration 15801 / 21010) loss: 1.104365\n",
      "(Iteration 15901 / 21010) loss: 1.255178\n",
      "(Iteration 16001 / 21010) loss: 0.976695\n",
      "(Epoch 42 / 55) train acc: 0.707000; val_acc: 0.551000\n",
      "(Iteration 16101 / 21010) loss: 1.319030\n",
      "(Iteration 16201 / 21010) loss: 1.037784\n",
      "(Iteration 16301 / 21010) loss: 1.107643\n",
      "(Iteration 16401 / 21010) loss: 1.226572\n",
      "(Epoch 43 / 55) train acc: 0.685000; val_acc: 0.561000\n",
      "(Iteration 16501 / 21010) loss: 1.008199\n",
      "(Iteration 16601 / 21010) loss: 1.123132\n",
      "(Iteration 16701 / 21010) loss: 1.206689\n",
      "(Iteration 16801 / 21010) loss: 1.042146\n",
      "(Epoch 44 / 55) train acc: 0.688000; val_acc: 0.543000\n",
      "(Iteration 16901 / 21010) loss: 1.159035\n",
      "(Iteration 17001 / 21010) loss: 1.130477\n",
      "(Iteration 17101 / 21010) loss: 1.141402\n",
      "(Epoch 45 / 55) train acc: 0.703000; val_acc: 0.546000\n",
      "(Iteration 17201 / 21010) loss: 1.201041\n",
      "(Iteration 17301 / 21010) loss: 1.135462\n",
      "(Iteration 17401 / 21010) loss: 1.178010\n",
      "(Iteration 17501 / 21010) loss: 1.309678\n",
      "(Epoch 46 / 55) train acc: 0.708000; val_acc: 0.563000\n",
      "(Iteration 17601 / 21010) loss: 1.356590\n",
      "(Iteration 17701 / 21010) loss: 1.293737\n",
      "(Iteration 17801 / 21010) loss: 1.177494\n",
      "(Iteration 17901 / 21010) loss: 1.197993\n",
      "(Epoch 47 / 55) train acc: 0.714000; val_acc: 0.559000\n",
      "(Iteration 18001 / 21010) loss: 0.882160\n",
      "(Iteration 18101 / 21010) loss: 1.198695\n",
      "(Iteration 18201 / 21010) loss: 1.273934\n",
      "(Iteration 18301 / 21010) loss: 1.147923\n",
      "(Epoch 48 / 55) train acc: 0.684000; val_acc: 0.566000\n",
      "(Iteration 18401 / 21010) loss: 1.234331\n",
      "(Iteration 18501 / 21010) loss: 1.064767\n",
      "(Iteration 18601 / 21010) loss: 1.189775\n",
      "(Iteration 18701 / 21010) loss: 1.101897\n",
      "(Epoch 49 / 55) train acc: 0.718000; val_acc: 0.557000\n",
      "(Iteration 18801 / 21010) loss: 0.978809\n",
      "(Iteration 18901 / 21010) loss: 1.214469\n",
      "(Iteration 19001 / 21010) loss: 1.163066\n",
      "(Epoch 50 / 55) train acc: 0.745000; val_acc: 0.564000\n",
      "(Iteration 19101 / 21010) loss: 1.105159\n",
      "(Epoch 51 / 55) train acc: 0.698000; val_acc: 0.566000\n",
      "(Iteration 19501 / 21010) loss: 1.236683\n",
      "(Iteration 19601 / 21010) loss: 1.221156\n",
      "(Iteration 19701 / 21010) loss: 1.117694\n",
      "(Iteration 19801 / 21010) loss: 1.117708\n",
      "(Epoch 52 / 55) train acc: 0.733000; val_acc: 0.565000\n",
      "(Iteration 19901 / 21010) loss: 0.995130\n",
      "(Iteration 20001 / 21010) loss: 1.127336\n",
      "(Iteration 20101 / 21010) loss: 1.026229\n",
      "(Iteration 20201 / 21010) loss: 1.192511\n",
      "(Epoch 53 / 55) train acc: 0.715000; val_acc: 0.558000\n",
      "(Iteration 20301 / 21010) loss: 1.099155\n",
      "(Iteration 20401 / 21010) loss: 1.025456\n",
      "(Iteration 20501 / 21010) loss: 1.253743\n",
      "(Iteration 20601 / 21010) loss: 1.128450\n",
      "(Epoch 54 / 55) train acc: 0.690000; val_acc: 0.540000\n",
      "(Iteration 20701 / 21010) loss: 1.167884\n",
      "(Iteration 20801 / 21010) loss: 1.031144\n",
      "(Iteration 20901 / 21010) loss: 1.104141\n",
      "(Iteration 21001 / 21010) loss: 1.150662\n",
      "(Epoch 55 / 55) train acc: 0.725000; val_acc: 0.555000\n"
     ]
    }
   ],
   "source": [
    "best_model = None\n",
    "################################################################################\n",
    "# TODO: Train the best FullyConnectedNet that you can on CIFAR-10. You might   #\n",
    "# find batch/layer normalization and dropout useful. Store your best model in  #\n",
    "# the best_model variable.                                                     #\n",
    "################################################################################\n",
    "\n",
    "num_train = 49000\n",
    "all_data = {\n",
    "  'X_train': data['X_train'][:num_train],\n",
    "  'y_train': data['y_train'][:num_train],\n",
    "  'X_val': data['X_val'],\n",
    "  'y_val': data['y_val'],\n",
    "}\n",
    "\n",
    "dropout = 0.5\n",
    "weight_scale = 2e-2\n",
    "normalization = 'batchnorm'\n",
    "best_model = FullyConnectedNet([512, 512, 512, 512, 512, 512, 512], weight_scale=weight_scale, normalization=normalization, dropout=dropout)\n",
    "\n",
    "\n",
    "solver = Solver(best_model, all_data,\n",
    "              num_epochs=35, batch_size=128,\n",
    "              update_rule='adam',\n",
    "              optim_config={\n",
    "                'learning_rate': 5e-4,\n",
    "              },\n",
    "              verbose=True, print_every=100)\n",
    "solver.train()\n",
    "\n",
    "################################################################################\n",
    "#                              END OF YOUR CODE                                #\n",
    "################################################################################"
   ]
  },
  {
   "cell_type": "markdown",
   "metadata": {},
   "source": [
    "# Test your model!\n",
    "Run your best model on the validation and test sets. You should achieve above 50% accuracy on the validation set."
   ]
  },
  {
   "cell_type": "code",
   "execution_count": 27,
   "metadata": {
    "ExecuteTime": {
     "end_time": "2018-07-20T07:17:48.282329Z",
     "start_time": "2018-07-20T07:17:48.052361Z"
    }
   },
   "outputs": [
    {
     "name": "stdout",
     "output_type": "stream",
     "text": [
      "Validation set accuracy:  0.555\n",
      "Test set accuracy:  0.557\n"
     ]
    }
   ],
   "source": [
    "y_test_pred = np.argmax(best_model.loss(data['X_test']), axis=1)\n",
    "y_val_pred = np.argmax(best_model.loss(data['X_val']), axis=1)\n",
    "print('Validation set accuracy: ', (y_val_pred == data['y_val']).mean())\n",
    "print('Test set accuracy: ', (y_test_pred == data['y_test']).mean())"
   ]
  },
  {
   "cell_type": "code",
   "execution_count": null,
   "metadata": {},
   "outputs": [],
   "source": []
  }
 ],
 "metadata": {
  "kernelspec": {
   "display_name": "Python 3",
   "language": "python",
   "name": "python3"
  },
  "language_info": {
   "codemirror_mode": {
    "name": "ipython",
    "version": 3
   },
   "file_extension": ".py",
   "mimetype": "text/x-python",
   "name": "python",
   "nbconvert_exporter": "python",
   "pygments_lexer": "ipython3",
   "version": "3.6.4"
  }
 },
 "nbformat": 4,
 "nbformat_minor": 2
}
